{
 "cells": [
  {
   "cell_type": "code",
   "execution_count": 52,
   "id": "cd081665",
   "metadata": {},
   "outputs": [],
   "source": [
    "import pandas as pd\n",
    "import numpy as np\n",
    "import seaborn as sns\n",
    "import matplotlib.pyplot as plt\n",
    "from scipy.stats import norm\n"
   ]
  },
  {
   "cell_type": "markdown",
   "id": "7630afe6",
   "metadata": {},
   "source": [
    "# Data analysis"
   ]
  },
  {
   "cell_type": "code",
   "execution_count": 53,
   "id": "782a775c",
   "metadata": {},
   "outputs": [],
   "source": [
    "df = pd.read_csv('./datasets/all_steps_test_paper.csv')\n",
    "#df = pd.read_csv('./datasets/all_steps.csv')\n",
    "tgn = 2\n",
    "df = df.loc[df['tangram nr' ] ==tgn]\n",
    "\n",
    "#this removes steps that are outside the grid (backtracks)\n",
    "df=df[df.step != 100]\n"
   ]
  },
  {
   "cell_type": "code",
   "execution_count": 54,
   "id": "f08ac25a",
   "metadata": {},
   "outputs": [
    {
     "data": {
      "image/png": "[encoded data removed]",
      "text/plain": [
       "<Figure size 1200x400 with 2 Axes>"
      ]
     },
     "metadata": {
      "needs_background": "light"
     },
     "output_type": "display_data"
    }
   ],
   "source": [
    "#df = pd.read_csv('./datasets/steps_test.csv')\n",
    "\n",
    "\n",
    "participants = df.groupby(['sid','tangram nr']).max()['step'].to_numpy()\n",
    "\n",
    "data = participants\n",
    "plt.figure(figsize=(15, 5), dpi=80)\n",
    "ax = plt.subplot(121)\n",
    "ax.set_title(f'Histogram of total number of steps for puzzle {tgn}')\n",
    "# H, bins = np.histogram(data,bins=int(np.max(data)))\n",
    "\n",
    "# ax.bar(bins[:-1],H,width=0.5)\n",
    "ax.hist(data, bins=int(np.max(participants)), alpha=0.6, width=0.2, color='b')\n",
    "ax = plt.subplot(122)\n",
    "mu, std = norm.fit(data)\n",
    "\n",
    "ax.hist(data, bins=int(np.max(participants)), density=True,stacked=True, alpha=0.6, color='b')\n",
    "xmin, xmax = (7,plt.xlim()[1])\n",
    "x = np.linspace(xmin, xmax, 20)\n",
    "p = norm.pdf(x, mu, std)\n",
    "ax.set_title('Fitted gaussian, m= {:.2f}, sd= {:.2f}'.format(mu,std))\n",
    "plt.plot(x, p, 'k', linewidth=2)\n",
    "plt.show()"
   ]
  },
  {
   "cell_type": "code",
   "execution_count": 55,
   "id": "e3e37df0",
   "metadata": {},
   "outputs": [
    {
     "name": "stdout",
     "output_type": "stream",
     "text": [
      "participants pre-trim\n",
      "mean: 8.88888888888889, std: 2.3306863292670035, max: 15.0\n",
      "participants\n",
      "n:9\n",
      "mean: 8.88888888888889, std: 2.3306863292670035, max: 15.0\n",
      "perfect solutions: 0.22\n",
      "2\n"
     ]
    }
   ],
   "source": [
    "print('participants pre-trim')\n",
    "print(f'mean: {participants.mean()}, std: {participants.std()}, max: {participants.max()}')\n",
    "participants = participants[participants<participants.mean()+3*participants.std()]\n",
    "print('participants')\n",
    "l = len(participants)\n",
    "print('n:%d'%l)\n",
    "print(f'mean: {participants.mean()}, std: {participants.std()}, max: {participants.max()}')\n",
    "print('perfect solutions: %.2f'%(np.count_nonzero(participants == 7)/l))\n",
    "print(np.count_nonzero(participants == 7))"
   ]
  },
  {
   "cell_type": "markdown",
   "id": "5f4d54a5",
   "metadata": {},
   "source": [
    "# General stats\n",
    "Avg number of steps, std..."
   ]
  },
  {
   "cell_type": "code",
   "execution_count": 70,
   "id": "95ca5051",
   "metadata": {},
   "outputs": [],
   "source": [
    "def print_results_1(tgn):\n",
    "    print(tgn)\n",
    "    test_data = np.loadtxt(f'datasets/heatmap{tgn}_test.txt')\n",
    "    train_data = np.loadtxt(f'datasets/heatmap{tgn}.txt')\n",
    "    #data = np.loadtxt(f'datasets/heatmap{tgn}.txt')\n",
    "    test_data = np.flip(test_data/test_data.sum(axis=0,keepdims=1),axis=0)\n",
    "    train_data = np.flip(train_data/train_data.sum(axis=0,keepdims=1),axis=0)\n",
    "    heatmaps = []\n",
    "    heatmaps.append(train_data)\n",
    "    heatmaps.append(test_data)\n",
    "\n",
    "    for restype in ['balanced','freq','vision']:\n",
    "        mat = pd.read_csv(f\"results/heatmap_{tgn}_{restype}_cnt.csv\",header=None).to_numpy()\n",
    "        solved_at = (mat==0).argmax(axis=1)\n",
    "        solved_at[solved_at==0] = mat.shape[1] \n",
    "\n",
    "        heatmap = np.zeros((5,10))\n",
    "        for i in range(5):\n",
    "            p = i+1\n",
    "            for m in range(10):\n",
    "                heatmap[i,m] = np.count_nonzero(mat[:,m] == p)\n",
    "        heatmaps.append(heatmap/heatmap.sum(axis=0,keepdims=1))\n",
    "        print(f'{restype} -- mean: {solved_at.mean()}, std: {solved_at.std()}, perfect: {np.count_nonzero(solved_at == 7)}:{np.count_nonzero(solved_at == 7)/31}')\n",
    "        \n",
    "    fig, axs = plt.subplots(5,1, figsize = (4,20))\n",
    "    cmap = sns.cm.rocket_r\n",
    "\n",
    "\n",
    "\n",
    "    for hm,ax,name in zip(heatmaps,axs.flatten(),['training data','test data','balanced','freq','vision']):\n",
    "        y_axis_labels = ['small triangle','square','parall','middle triangle','big triangle']\n",
    "        x_axis_labels = [1,2,3,4,5,6,7,8,9,10]\n",
    "        ax.set_title(name)\n",
    "\n",
    "        rmse =np.sqrt(np.mean((hm-train_data)**2, axis=0))\n",
    "        print(f'{name}: {np.mean(rmse)}')\n",
    "\n",
    "        sns.heatmap(hm,ax=ax,yticklabels=y_axis_labels,xticklabels=x_axis_labels,cmap=cmap,vmin=0, vmax=1)\n",
    "        ax.invert_yaxis()\n",
    "    plt.show()"
   ]
  },
  {
   "cell_type": "code",
   "execution_count": 75,
   "id": "38635d91",
   "metadata": {},
   "outputs": [
    {
     "name": "stdout",
     "output_type": "stream",
     "text": [
      "2\n",
      "balanced -- mean: 10.833333333333334, std: 5.441098745249488, perfect: 10:0.3225806451612903\n",
      "freq -- mean: 10.266666666666667, std: 5.0985836813330385, perfect: 15:0.4838709677419355\n",
      "vision -- mean: 10.2, std: 5.455272678794342, perfect: 18:0.5806451612903226\n",
      "training data: 0.0\n",
      "test data: 0.13667321810272096\n",
      "balanced: 0.13606477655088417\n",
      "freq: 0.14676643386082894\n",
      "vision: 0.11677991740630245\n"
     ]
    },
    {
     "data": {
      "image/png": "[encoded data removed]",
      "text/plain": [
       "<Figure size 288x1440 with 10 Axes>"
      ]
     },
     "metadata": {
      "needs_background": "light"
     },
     "output_type": "display_data"
    }
   ],
   "source": [
    "print_results_1(2)"
   ]
  },
  {
   "cell_type": "code",
   "execution_count": 73,
   "id": "9bbc9309",
   "metadata": {},
   "outputs": [
    {
     "name": "stdout",
     "output_type": "stream",
     "text": [
      "model: balanced\n",
      "score: 45 / 243\n",
      "\t=0.18518518518518517\n",
      "model: freq\n",
      "score: 35 / 217\n",
      "\t=0.16129032258064516\n",
      "model: vision\n",
      "score: 51 / 257\n",
      "\t=0.19844357976653695\n"
     ]
    }
   ],
   "source": [
    "def rot_normalize(pos,piece='square'):\n",
    "    # normalize position of square and parall\n",
    "    if pos == 'set()':\n",
    "        return pos\n",
    "    else:\n",
    "        print(pos)\n",
    "        pos = list(eval(pos))[0][1]\n",
    "    rot = pos[1]\n",
    "    if piece =='square':\n",
    "        if rot% 90 == 0:\n",
    "            return (pos[0],0)\n",
    "        else:\n",
    "            return (pos[0],45)\n",
    "        \n",
    "    if piece == 'parall':\n",
    "        if rot == 180:\n",
    "            return (pos[0],0)\n",
    "        if rot == 225:\n",
    "            return (pos[0],45)\n",
    "        if rot == 270:\n",
    "            return (pos[0],90)\n",
    "        if rot == 315:\n",
    "            return (pos[0],135)\n",
    "    return pos\n",
    "\n",
    "tgn = 4\n",
    "users = pd.read_csv('datasets/test_states.csv')\n",
    "#users = pd.read_csv('datasets/train_states.csv')\n",
    "users = users.loc[users['tangram nr'] ==tgn]\n",
    "for mtype in ['balanced','freq','vision']:\n",
    "    model = pd.read_csv(f'results/model_states_evolution_{tgn}_{mtype}_cnt.csv')\n",
    "\n",
    "    limits = {2:int(10.8+6.9),4:int(12.4+6.5)}\n",
    "    offset = [1,2,3,3,3]\n",
    "    score = 0\n",
    "    max_score = 0\n",
    "    errors= 0\n",
    "    for run in model.run.unique():\n",
    "        run_steps = model.loc[model.run == run]\n",
    "        if len(run_steps) < 17:\n",
    "            errors+=1\n",
    "            continue\n",
    "        for step in range(3,limits.get(tgn)):\n",
    "\n",
    "\n",
    "            state = run_steps.iloc[step-1][['small triangle','middle triangle','big triangle','square','parallelogram']]\n",
    "            previous = run_steps.iloc[step-2][['small triangle','middle triangle','big triangle','square','parallelogram']]\n",
    "            last_state = run_steps.iloc[-1][['small triangle','middle triangle','big triangle','square','parallelogram']]\n",
    "            if not (state.equals(last_state) and state.equals(previous)):\n",
    "                max_score +=1\n",
    "                users_at_step = users.loc[users['step'].isin(list(range(step-offset[step//4], step + offset[step//4]+1)))][['small triangle','middle triangle','big triangle','square','parallelogram']]\n",
    "                res= users_at_step.loc[\n",
    "                    (users_at_step['small triangle'] == state['small triangle']) &\n",
    "                    (users_at_step['middle triangle'] == state['middle triangle']) &\n",
    "                    (users_at_step['big triangle'] == state['big triangle']) &\n",
    "                    (users_at_step['square']== state['square']) &\n",
    "                    (users_at_step['parallelogram'] == state['parallelogram'])\n",
    "                ]\n",
    "                if not res.empty:\n",
    "                    score+=1\n",
    "    print(f'model: {mtype}')\n",
    "    print(f'score: {score} / {max_score}')\n",
    "    print(f'\\t={score/max_score}')\n"
   ]
  },
  {
   "cell_type": "code",
   "execution_count": 51,
   "id": "ee586eee",
   "metadata": {},
   "outputs": [
    {
     "data": {
      "text/html": [
       "<div>\n",
       "<style scoped>\n",
       "    .dataframe tbody tr th:only-of-type {\n",
       "        vertical-align: middle;\n",
       "    }\n",
       "\n",
       "    .dataframe tbody tr th {\n",
       "        vertical-align: top;\n",
       "    }\n",
       "\n",
       "    .dataframe thead th {\n",
       "        text-align: right;\n",
       "    }\n",
       "</style>\n",
       "<table border=\"1\" class=\"dataframe\">\n",
       "  <thead>\n",
       "    <tr style=\"text-align: right;\">\n",
       "      <th></th>\n",
       "      <th>small triangle</th>\n",
       "      <th>middle triangle</th>\n",
       "      <th>big triangle</th>\n",
       "      <th>square</th>\n",
       "      <th>parallelogram</th>\n",
       "    </tr>\n",
       "  </thead>\n",
       "  <tbody>\n",
       "    <tr>\n",
       "      <th>55</th>\n",
       "      <td>{(11.0, 0.0)}</td>\n",
       "      <td>set()</td>\n",
       "      <td>{(12.0, 135.0)}</td>\n",
       "      <td>{(23.0, 0.0)}</td>\n",
       "      <td>set()</td>\n",
       "    </tr>\n",
       "    <tr>\n",
       "      <th>56</th>\n",
       "      <td>set()</td>\n",
       "      <td>set()</td>\n",
       "      <td>{(12.0, 135.0)}</td>\n",
       "      <td>{(23.0, 0.0)}</td>\n",
       "      <td>{(11.0, 90.0)}</td>\n",
       "    </tr>\n",
       "    <tr>\n",
       "      <th>57</th>\n",
       "      <td>set()</td>\n",
       "      <td>set()</td>\n",
       "      <td>{(12.0, 135.0), (7.0, 45.0)}</td>\n",
       "      <td>{(23.0, 0.0)}</td>\n",
       "      <td>{(11.0, 90.0)}</td>\n",
       "    </tr>\n",
       "    <tr>\n",
       "      <th>58</th>\n",
       "      <td>set()</td>\n",
       "      <td>{(7.0, 225.0)}</td>\n",
       "      <td>{(12.0, 135.0), (7.0, 45.0)}</td>\n",
       "      <td>{(23.0, 0.0)}</td>\n",
       "      <td>{(11.0, 90.0)}</td>\n",
       "    </tr>\n",
       "    <tr>\n",
       "      <th>59</th>\n",
       "      <td>{(23.0, 0.0)}</td>\n",
       "      <td>{(7.0, 225.0)}</td>\n",
       "      <td>{(12.0, 135.0), (7.0, 45.0)}</td>\n",
       "      <td>{(23.0, 0.0)}</td>\n",
       "      <td>{(11.0, 90.0)}</td>\n",
       "    </tr>\n",
       "    <tr>\n",
       "      <th>60</th>\n",
       "      <td>{(23.0, 0.0), (2.0, 135.0)}</td>\n",
       "      <td>{(7.0, 225.0)}</td>\n",
       "      <td>{(12.0, 135.0), (7.0, 45.0)}</td>\n",
       "      <td>{(23.0, 0.0)}</td>\n",
       "      <td>{(11.0, 90.0)}</td>\n",
       "    </tr>\n",
       "    <tr>\n",
       "      <th>61</th>\n",
       "      <td>{(23.0, 0.0), (2.0, 135.0)}</td>\n",
       "      <td>{(7.0, 225.0)}</td>\n",
       "      <td>{(12.0, 135.0), (7.0, 45.0)}</td>\n",
       "      <td>{(23.0, 0.0)}</td>\n",
       "      <td>{(11.0, 90.0)}</td>\n",
       "    </tr>\n",
       "    <tr>\n",
       "      <th>119</th>\n",
       "      <td>{(23.0, 0.0), (2.0, 135.0)}</td>\n",
       "      <td>set()</td>\n",
       "      <td>set()</td>\n",
       "      <td>{(23.0, 0.0)}</td>\n",
       "      <td>{(11.0, 90.0)}</td>\n",
       "    </tr>\n",
       "    <tr>\n",
       "      <th>120</th>\n",
       "      <td>{(23.0, 0.0), (2.0, 135.0)}</td>\n",
       "      <td>set()</td>\n",
       "      <td>{(13.0, 270.0)}</td>\n",
       "      <td>{(23.0, 0.0)}</td>\n",
       "      <td>{(11.0, 90.0)}</td>\n",
       "    </tr>\n",
       "    <tr>\n",
       "      <th>121</th>\n",
       "      <td>{(23.0, 0.0), (2.0, 135.0)}</td>\n",
       "      <td>set()</td>\n",
       "      <td>set()</td>\n",
       "      <td>set()</td>\n",
       "      <td>set()</td>\n",
       "    </tr>\n",
       "    <tr>\n",
       "      <th>122</th>\n",
       "      <td>{(23.0, 0.0), (2.0, 135.0)}</td>\n",
       "      <td>set()</td>\n",
       "      <td>set()</td>\n",
       "      <td>{(23.0, 0.0)}</td>\n",
       "      <td>set()</td>\n",
       "    </tr>\n",
       "    <tr>\n",
       "      <th>123</th>\n",
       "      <td>{(23.0, 0.0), (2.0, 135.0)}</td>\n",
       "      <td>set()</td>\n",
       "      <td>{(13.0, 270.0)}</td>\n",
       "      <td>{(23.0, 0.0)}</td>\n",
       "      <td>set()</td>\n",
       "    </tr>\n",
       "    <tr>\n",
       "      <th>124</th>\n",
       "      <td>{(23.0, 0.0), (2.0, 135.0)}</td>\n",
       "      <td>set()</td>\n",
       "      <td>{(7.0, 90.0), (13.0, 270.0)}</td>\n",
       "      <td>{(23.0, 0.0)}</td>\n",
       "      <td>set()</td>\n",
       "    </tr>\n",
       "    <tr>\n",
       "      <th>125</th>\n",
       "      <td>{(23.0, 0.0)}</td>\n",
       "      <td>set()</td>\n",
       "      <td>{(13.0, 270.0)}</td>\n",
       "      <td>{(23.0, 0.0)}</td>\n",
       "      <td>set()</td>\n",
       "    </tr>\n",
       "    <tr>\n",
       "      <th>183</th>\n",
       "      <td>{(23.0, 0.0), (2.0, 135.0)}</td>\n",
       "      <td>{(8.0, 225.0)}</td>\n",
       "      <td>{(12.0, 135.0), (7.0, 45.0)}</td>\n",
       "      <td>{(23.0, 0.0)}</td>\n",
       "      <td>set()</td>\n",
       "    </tr>\n",
       "    <tr>\n",
       "      <th>184</th>\n",
       "      <td>{(23.0, 0.0), (2.0, 135.0)}</td>\n",
       "      <td>{(8.0, 225.0)}</td>\n",
       "      <td>{(12.0, 135.0), (7.0, 45.0)}</td>\n",
       "      <td>{(23.0, 0.0)}</td>\n",
       "      <td>{(11.0, 90.0)}</td>\n",
       "    </tr>\n",
       "    <tr>\n",
       "      <th>185</th>\n",
       "      <td>{(23.0, 0.0), (2.0, 135.0)}</td>\n",
       "      <td>{(8.0, 225.0)}</td>\n",
       "      <td>{(12.0, 135.0), (7.0, 45.0)}</td>\n",
       "      <td>{(23.0, 0.0)}</td>\n",
       "      <td>{(11.0, 90.0)}</td>\n",
       "    </tr>\n",
       "    <tr>\n",
       "      <th>186</th>\n",
       "      <td>{(23.0, 0.0), (2.0, 135.0)}</td>\n",
       "      <td>{(8.0, 225.0)}</td>\n",
       "      <td>{(12.0, 135.0), (7.0, 45.0)}</td>\n",
       "      <td>{(23.0, 0.0)}</td>\n",
       "      <td>{(11.0, 90.0)}</td>\n",
       "    </tr>\n",
       "    <tr>\n",
       "      <th>187</th>\n",
       "      <td>{(23.0, 0.0), (2.0, 135.0)}</td>\n",
       "      <td>{(8.0, 225.0)}</td>\n",
       "      <td>{(12.0, 135.0), (7.0, 45.0)}</td>\n",
       "      <td>{(23.0, 0.0)}</td>\n",
       "      <td>{(11.0, 90.0)}</td>\n",
       "    </tr>\n",
       "    <tr>\n",
       "      <th>188</th>\n",
       "      <td>{(23.0, 0.0), (2.0, 135.0)}</td>\n",
       "      <td>{(8.0, 225.0)}</td>\n",
       "      <td>{(12.0, 135.0), (7.0, 45.0)}</td>\n",
       "      <td>{(23.0, 0.0)}</td>\n",
       "      <td>{(11.0, 90.0)}</td>\n",
       "    </tr>\n",
       "    <tr>\n",
       "      <th>189</th>\n",
       "      <td>{(23.0, 0.0), (2.0, 135.0)}</td>\n",
       "      <td>{(8.0, 225.0)}</td>\n",
       "      <td>{(12.0, 135.0), (7.0, 45.0)}</td>\n",
       "      <td>{(23.0, 0.0)}</td>\n",
       "      <td>{(11.0, 90.0)}</td>\n",
       "    </tr>\n",
       "    <tr>\n",
       "      <th>247</th>\n",
       "      <td>{(23.0, 0.0), (2.0, 135.0)}</td>\n",
       "      <td>set()</td>\n",
       "      <td>{(8.0, 270.0)}</td>\n",
       "      <td>{(19.0, 45.0)}</td>\n",
       "      <td>{(18.0, 0.0)}</td>\n",
       "    </tr>\n",
       "    <tr>\n",
       "      <th>248</th>\n",
       "      <td>{(23.0, 0.0), (2.0, 135.0)}</td>\n",
       "      <td>set()</td>\n",
       "      <td>{(8.0, 270.0)}</td>\n",
       "      <td>{(19.0, 45.0)}</td>\n",
       "      <td>{(18.0, 0.0)}</td>\n",
       "    </tr>\n",
       "    <tr>\n",
       "      <th>249</th>\n",
       "      <td>{(23.0, 0.0), (2.0, 135.0)}</td>\n",
       "      <td>set()</td>\n",
       "      <td>{(8.0, 270.0)}</td>\n",
       "      <td>{(19.0, 45.0)}</td>\n",
       "      <td>{(11.0, 90.0)}</td>\n",
       "    </tr>\n",
       "    <tr>\n",
       "      <th>250</th>\n",
       "      <td>{(23.0, 0.0), (2.0, 135.0)}</td>\n",
       "      <td>set()</td>\n",
       "      <td>{(13.0, 270.0)}</td>\n",
       "      <td>{(19.0, 45.0)}</td>\n",
       "      <td>{(11.0, 90.0)}</td>\n",
       "    </tr>\n",
       "    <tr>\n",
       "      <th>251</th>\n",
       "      <td>{(23.0, 0.0), (2.0, 135.0)}</td>\n",
       "      <td>set()</td>\n",
       "      <td>{(13.0, 270.0)}</td>\n",
       "      <td>{(23.0, 0.0)}</td>\n",
       "      <td>{(11.0, 90.0)}</td>\n",
       "    </tr>\n",
       "    <tr>\n",
       "      <th>252</th>\n",
       "      <td>{(23.0, 0.0), (2.0, 135.0)}</td>\n",
       "      <td>set()</td>\n",
       "      <td>{(13.0, 270.0)}</td>\n",
       "      <td>{(23.0, 0.0)}</td>\n",
       "      <td>{(11.0, 90.0)}</td>\n",
       "    </tr>\n",
       "    <tr>\n",
       "      <th>253</th>\n",
       "      <td>{(23.0, 0.0), (2.0, 135.0)}</td>\n",
       "      <td>{(12.0, 270.0)}</td>\n",
       "      <td>set()</td>\n",
       "      <td>{(23.0, 0.0)}</td>\n",
       "      <td>{(11.0, 90.0)}</td>\n",
       "    </tr>\n",
       "    <tr>\n",
       "      <th>311</th>\n",
       "      <td>{(23.0, 0.0), (2.0, 135.0)}</td>\n",
       "      <td>{(8.0, 225.0)}</td>\n",
       "      <td>{(12.0, 135.0), (7.0, 45.0)}</td>\n",
       "      <td>{(24.0, 0.0)}</td>\n",
       "      <td>{(11.0, 90.0)}</td>\n",
       "    </tr>\n",
       "    <tr>\n",
       "      <th>312</th>\n",
       "      <td>{(23.0, 0.0), (2.0, 135.0)}</td>\n",
       "      <td>{(8.0, 225.0)}</td>\n",
       "      <td>{(12.0, 135.0), (7.0, 45.0)}</td>\n",
       "      <td>{(24.0, 0.0)}</td>\n",
       "      <td>{(11.0, 90.0)}</td>\n",
       "    </tr>\n",
       "    <tr>\n",
       "      <th>313</th>\n",
       "      <td>{(23.0, 0.0), (2.0, 135.0)}</td>\n",
       "      <td>{(8.0, 225.0)}</td>\n",
       "      <td>{(12.0, 135.0), (7.0, 45.0)}</td>\n",
       "      <td>{(24.0, 0.0)}</td>\n",
       "      <td>{(11.0, 90.0)}</td>\n",
       "    </tr>\n",
       "    <tr>\n",
       "      <th>314</th>\n",
       "      <td>{(23.0, 0.0), (2.0, 135.0)}</td>\n",
       "      <td>{(8.0, 225.0)}</td>\n",
       "      <td>{(12.0, 135.0), (7.0, 45.0)}</td>\n",
       "      <td>{(24.0, 0.0)}</td>\n",
       "      <td>{(11.0, 90.0)}</td>\n",
       "    </tr>\n",
       "    <tr>\n",
       "      <th>315</th>\n",
       "      <td>{(23.0, 0.0), (2.0, 135.0)}</td>\n",
       "      <td>{(8.0, 225.0)}</td>\n",
       "      <td>{(12.0, 135.0), (7.0, 45.0)}</td>\n",
       "      <td>{(24.0, 0.0)}</td>\n",
       "      <td>{(11.0, 90.0)}</td>\n",
       "    </tr>\n",
       "    <tr>\n",
       "      <th>316</th>\n",
       "      <td>{(23.0, 0.0), (2.0, 135.0)}</td>\n",
       "      <td>{(8.0, 225.0)}</td>\n",
       "      <td>{(12.0, 135.0), (7.0, 45.0)}</td>\n",
       "      <td>{(24.0, 0.0)}</td>\n",
       "      <td>{(11.0, 90.0)}</td>\n",
       "    </tr>\n",
       "    <tr>\n",
       "      <th>317</th>\n",
       "      <td>{(23.0, 0.0), (2.0, 135.0)}</td>\n",
       "      <td>{(8.0, 225.0)}</td>\n",
       "      <td>{(12.0, 135.0), (7.0, 45.0)}</td>\n",
       "      <td>{(24.0, 0.0)}</td>\n",
       "      <td>{(11.0, 90.0)}</td>\n",
       "    </tr>\n",
       "    <tr>\n",
       "      <th>375</th>\n",
       "      <td>{(23.0, 0.0)}</td>\n",
       "      <td>set()</td>\n",
       "      <td>{(12.0, 135.0), (7.0, 45.0)}</td>\n",
       "      <td>{(23.0, 0.0)}</td>\n",
       "      <td>set()</td>\n",
       "    </tr>\n",
       "    <tr>\n",
       "      <th>376</th>\n",
       "      <td>{(23.0, 0.0)}</td>\n",
       "      <td>{(8.0, 225.0)}</td>\n",
       "      <td>{(12.0, 135.0), (7.0, 45.0)}</td>\n",
       "      <td>{(23.0, 0.0)}</td>\n",
       "      <td>set()</td>\n",
       "    </tr>\n",
       "    <tr>\n",
       "      <th>377</th>\n",
       "      <td>{(23.0, 0.0)}</td>\n",
       "      <td>{(8.0, 225.0)}</td>\n",
       "      <td>{(12.0, 135.0), (7.0, 45.0)}</td>\n",
       "      <td>{(23.0, 0.0)}</td>\n",
       "      <td>{(11.0, 90.0)}</td>\n",
       "    </tr>\n",
       "    <tr>\n",
       "      <th>378</th>\n",
       "      <td>{(23.0, 0.0), (2.0, 135.0)}</td>\n",
       "      <td>{(8.0, 225.0)}</td>\n",
       "      <td>{(12.0, 135.0), (7.0, 45.0)}</td>\n",
       "      <td>{(23.0, 0.0)}</td>\n",
       "      <td>{(11.0, 90.0)}</td>\n",
       "    </tr>\n",
       "    <tr>\n",
       "      <th>379</th>\n",
       "      <td>{(23.0, 0.0), (2.0, 135.0)}</td>\n",
       "      <td>{(8.0, 225.0)}</td>\n",
       "      <td>{(12.0, 135.0), (7.0, 45.0)}</td>\n",
       "      <td>{(23.0, 0.0)}</td>\n",
       "      <td>{(11.0, 90.0)}</td>\n",
       "    </tr>\n",
       "  </tbody>\n",
       "</table>\n",
       "</div>"
      ],
      "text/plain": [
       "                  small triangle  middle triangle  \\\n",
       "55                 {(11.0, 0.0)}            set()   \n",
       "56                         set()            set()   \n",
       "57                         set()            set()   \n",
       "58                         set()   {(7.0, 225.0)}   \n",
       "59                 {(23.0, 0.0)}   {(7.0, 225.0)}   \n",
       "60   {(23.0, 0.0), (2.0, 135.0)}   {(7.0, 225.0)}   \n",
       "61   {(23.0, 0.0), (2.0, 135.0)}   {(7.0, 225.0)}   \n",
       "119  {(23.0, 0.0), (2.0, 135.0)}            set()   \n",
       "120  {(23.0, 0.0), (2.0, 135.0)}            set()   \n",
       "121  {(23.0, 0.0), (2.0, 135.0)}            set()   \n",
       "122  {(23.0, 0.0), (2.0, 135.0)}            set()   \n",
       "123  {(23.0, 0.0), (2.0, 135.0)}            set()   \n",
       "124  {(23.0, 0.0), (2.0, 135.0)}            set()   \n",
       "125                {(23.0, 0.0)}            set()   \n",
       "183  {(23.0, 0.0), (2.0, 135.0)}   {(8.0, 225.0)}   \n",
       "184  {(23.0, 0.0), (2.0, 135.0)}   {(8.0, 225.0)}   \n",
       "185  {(23.0, 0.0), (2.0, 135.0)}   {(8.0, 225.0)}   \n",
       "186  {(23.0, 0.0), (2.0, 135.0)}   {(8.0, 225.0)}   \n",
       "187  {(23.0, 0.0), (2.0, 135.0)}   {(8.0, 225.0)}   \n",
       "188  {(23.0, 0.0), (2.0, 135.0)}   {(8.0, 225.0)}   \n",
       "189  {(23.0, 0.0), (2.0, 135.0)}   {(8.0, 225.0)}   \n",
       "247  {(23.0, 0.0), (2.0, 135.0)}            set()   \n",
       "248  {(23.0, 0.0), (2.0, 135.0)}            set()   \n",
       "249  {(23.0, 0.0), (2.0, 135.0)}            set()   \n",
       "250  {(23.0, 0.0), (2.0, 135.0)}            set()   \n",
       "251  {(23.0, 0.0), (2.0, 135.0)}            set()   \n",
       "252  {(23.0, 0.0), (2.0, 135.0)}            set()   \n",
       "253  {(23.0, 0.0), (2.0, 135.0)}  {(12.0, 270.0)}   \n",
       "311  {(23.0, 0.0), (2.0, 135.0)}   {(8.0, 225.0)}   \n",
       "312  {(23.0, 0.0), (2.0, 135.0)}   {(8.0, 225.0)}   \n",
       "313  {(23.0, 0.0), (2.0, 135.0)}   {(8.0, 225.0)}   \n",
       "314  {(23.0, 0.0), (2.0, 135.0)}   {(8.0, 225.0)}   \n",
       "315  {(23.0, 0.0), (2.0, 135.0)}   {(8.0, 225.0)}   \n",
       "316  {(23.0, 0.0), (2.0, 135.0)}   {(8.0, 225.0)}   \n",
       "317  {(23.0, 0.0), (2.0, 135.0)}   {(8.0, 225.0)}   \n",
       "375                {(23.0, 0.0)}            set()   \n",
       "376                {(23.0, 0.0)}   {(8.0, 225.0)}   \n",
       "377                {(23.0, 0.0)}   {(8.0, 225.0)}   \n",
       "378  {(23.0, 0.0), (2.0, 135.0)}   {(8.0, 225.0)}   \n",
       "379  {(23.0, 0.0), (2.0, 135.0)}   {(8.0, 225.0)}   \n",
       "\n",
       "                     big triangle          square   parallelogram  \n",
       "55                {(12.0, 135.0)}   {(23.0, 0.0)}           set()  \n",
       "56                {(12.0, 135.0)}   {(23.0, 0.0)}  {(11.0, 90.0)}  \n",
       "57   {(12.0, 135.0), (7.0, 45.0)}   {(23.0, 0.0)}  {(11.0, 90.0)}  \n",
       "58   {(12.0, 135.0), (7.0, 45.0)}   {(23.0, 0.0)}  {(11.0, 90.0)}  \n",
       "59   {(12.0, 135.0), (7.0, 45.0)}   {(23.0, 0.0)}  {(11.0, 90.0)}  \n",
       "60   {(12.0, 135.0), (7.0, 45.0)}   {(23.0, 0.0)}  {(11.0, 90.0)}  \n",
       "61   {(12.0, 135.0), (7.0, 45.0)}   {(23.0, 0.0)}  {(11.0, 90.0)}  \n",
       "119                         set()   {(23.0, 0.0)}  {(11.0, 90.0)}  \n",
       "120               {(13.0, 270.0)}   {(23.0, 0.0)}  {(11.0, 90.0)}  \n",
       "121                         set()           set()           set()  \n",
       "122                         set()   {(23.0, 0.0)}           set()  \n",
       "123               {(13.0, 270.0)}   {(23.0, 0.0)}           set()  \n",
       "124  {(7.0, 90.0), (13.0, 270.0)}   {(23.0, 0.0)}           set()  \n",
       "125               {(13.0, 270.0)}   {(23.0, 0.0)}           set()  \n",
       "183  {(12.0, 135.0), (7.0, 45.0)}   {(23.0, 0.0)}           set()  \n",
       "184  {(12.0, 135.0), (7.0, 45.0)}   {(23.0, 0.0)}  {(11.0, 90.0)}  \n",
       "185  {(12.0, 135.0), (7.0, 45.0)}   {(23.0, 0.0)}  {(11.0, 90.0)}  \n",
       "186  {(12.0, 135.0), (7.0, 45.0)}   {(23.0, 0.0)}  {(11.0, 90.0)}  \n",
       "187  {(12.0, 135.0), (7.0, 45.0)}   {(23.0, 0.0)}  {(11.0, 90.0)}  \n",
       "188  {(12.0, 135.0), (7.0, 45.0)}   {(23.0, 0.0)}  {(11.0, 90.0)}  \n",
       "189  {(12.0, 135.0), (7.0, 45.0)}   {(23.0, 0.0)}  {(11.0, 90.0)}  \n",
       "247                {(8.0, 270.0)}  {(19.0, 45.0)}   {(18.0, 0.0)}  \n",
       "248                {(8.0, 270.0)}  {(19.0, 45.0)}   {(18.0, 0.0)}  \n",
       "249                {(8.0, 270.0)}  {(19.0, 45.0)}  {(11.0, 90.0)}  \n",
       "250               {(13.0, 270.0)}  {(19.0, 45.0)}  {(11.0, 90.0)}  \n",
       "251               {(13.0, 270.0)}   {(23.0, 0.0)}  {(11.0, 90.0)}  \n",
       "252               {(13.0, 270.0)}   {(23.0, 0.0)}  {(11.0, 90.0)}  \n",
       "253                         set()   {(23.0, 0.0)}  {(11.0, 90.0)}  \n",
       "311  {(12.0, 135.0), (7.0, 45.0)}   {(24.0, 0.0)}  {(11.0, 90.0)}  \n",
       "312  {(12.0, 135.0), (7.0, 45.0)}   {(24.0, 0.0)}  {(11.0, 90.0)}  \n",
       "313  {(12.0, 135.0), (7.0, 45.0)}   {(24.0, 0.0)}  {(11.0, 90.0)}  \n",
       "314  {(12.0, 135.0), (7.0, 45.0)}   {(24.0, 0.0)}  {(11.0, 90.0)}  \n",
       "315  {(12.0, 135.0), (7.0, 45.0)}   {(24.0, 0.0)}  {(11.0, 90.0)}  \n",
       "316  {(12.0, 135.0), (7.0, 45.0)}   {(24.0, 0.0)}  {(11.0, 90.0)}  \n",
       "317  {(12.0, 135.0), (7.0, 45.0)}   {(24.0, 0.0)}  {(11.0, 90.0)}  \n",
       "375  {(12.0, 135.0), (7.0, 45.0)}   {(23.0, 0.0)}           set()  \n",
       "376  {(12.0, 135.0), (7.0, 45.0)}   {(23.0, 0.0)}           set()  \n",
       "377  {(12.0, 135.0), (7.0, 45.0)}   {(23.0, 0.0)}  {(11.0, 90.0)}  \n",
       "378  {(12.0, 135.0), (7.0, 45.0)}   {(23.0, 0.0)}  {(11.0, 90.0)}  \n",
       "379  {(12.0, 135.0), (7.0, 45.0)}   {(23.0, 0.0)}  {(11.0, 90.0)}  "
      ]
     },
     "execution_count": 51,
     "metadata": {},
     "output_type": "execute_result"
    }
   ],
   "source": [
    "#users_at_step['square'].apply(lambda x: 0 if x =='set()' else list(eval(x))[])\n",
    "users_at_step.head(40)"
   ]
  },
  {
   "cell_type": "code",
   "execution_count": 62,
   "id": "55cfcec5",
   "metadata": {},
   "outputs": [
    {
     "data": {
      "text/plain": [
       "small triangle      {(23.0, 0.0), (2.0, 135.0)}\n",
       "middle triangle                  {(8.0, 225.0)}\n",
       "big triangle       {(17.0, 135.0), (7.0, 45.0)}\n",
       "square                            {(23.0, 0.0)}\n",
       "parallelogram                    {(11.0, 90.0)}\n",
       "Name: 512, dtype: object"
      ]
     },
     "execution_count": 62,
     "metadata": {},
     "output_type": "execute_result"
    }
   ],
   "source": [
    "state"
   ]
  },
  {
   "cell_type": "raw",
   "id": "f3f8795f",
   "metadata": {},
   "source": [
    "# OLD"
   ]
  },
  {
   "cell_type": "markdown",
   "id": "cf75a292",
   "metadata": {},
   "source": [
    "# Heatmaps"
   ]
  },
  {
   "cell_type": "code",
   "execution_count": 85,
   "id": "89c206df",
   "metadata": {},
   "outputs": [
    {
     "name": "stdout",
     "output_type": "stream",
     "text": [
      "0.0\n",
      "0.13606477655088417\n",
      "0.14676643386082894\n",
      "0.11677991740630245\n"
     ]
    },
    {
     "data": {
      "image/png": "[encoded data removed]",
      "text/plain": [
       "<Figure size 1080x720 with 8 Axes>"
      ]
     },
     "metadata": {
      "needs_background": "light"
     },
     "output_type": "display_data"
    }
   ],
   "source": [
    "fig, axs = plt.subplots(2,2, figsize = (15,10))\n",
    "cmap = sns.cm.rocket_r\n",
    "\n",
    "\n",
    "\n",
    "for hm,ax in zip(heatmaps,axs.flatten()):\n",
    "    y_axis_labels = ['small triangle','square','parall','middle triangle','big triangle']\n",
    "    x_axis_labels = [1,2,3,4,5,6,7,8,9,10]\n",
    "    \n",
    "    rmse =np.sqrt(np.mean((hm-data)**2, axis=0))\n",
    "    print(np.mean(rmse))\n",
    "\n",
    "    sns.heatmap(hm,ax=ax,yticklabels=y_axis_labels,xticklabels=x_axis_labels,cmap=cmap,vmin=0, vmax=1)\n",
    "    ax.invert_yaxis()\n",
    "plt.show()"
   ]
  },
  {
   "cell_type": "code",
   "execution_count": 84,
   "id": "6e4a059c",
   "metadata": {
    "scrolled": true
   },
   "outputs": [
    {
     "name": "stdout",
     "output_type": "stream",
     "text": [
      "balanced -- mean: 10.833333333333334, std: 5.441098745249488, perfect: 10\n",
      "freq -- mean: 10.266666666666667, std: 5.0985836813330385, perfect: 15\n",
      "vision -- mean: 10.2, std: 5.455272678794342, perfect: 18\n"
     ]
    }
   ],
   "source": [
    "tgn = 2\n",
    "\n",
    "#mat = pd.read_csv(\"results/heatmap_2_mixed_cnt.csv\",header=None).to_numpy()\n",
    "data = np.loadtxt(f'datasets/heatmap{tgn}.txt')\n",
    "data = np.flip(data/data.sum(axis=0,keepdims=1),axis=0)\n",
    "heatmaps = []\n",
    "heatmaps.append(data)\n",
    "\n",
    "for restype in ['balanced','freq','vision']:\n",
    "    mat = pd.read_csv(f\"results/heatmap_{tgn}_{restype}_cnt.csv\",header=None).to_numpy()\n",
    "    solved_at = (mat==0).argmax(axis=1)\n",
    "    solved_at[solved_at==0] = mat.shape[1] \n",
    "    \n",
    "    heatmap = np.zeros((5,10))\n",
    "    for i in range(5):\n",
    "        p = i+1\n",
    "        for m in range(10):\n",
    "            heatmap[i,m] = np.count_nonzero(mat[:,m] == p)\n",
    "    heatmaps.append(heatmap/heatmap.sum(axis=0,keepdims=1))\n",
    "    print(f'{restype} -- mean: {solved_at.mean()}, std: {solved_at.std()}, perfect: {np.count_nonzero(solved_at == 7)}')"
   ]
  },
  {
   "cell_type": "code",
   "execution_count": 19,
   "id": "83e9f93e",
   "metadata": {},
   "outputs": [],
   "source": [
    "heatmap = np.zeros((5,10))\n",
    "for i in range(5):\n",
    "    p = i+1\n",
    "    for m in range(10):\n",
    "        heatmap[i,m] = np.count_nonzero(mat[:,m] == p)\n"
   ]
  },
  {
   "cell_type": "code",
   "execution_count": 20,
   "id": "1e7d2514",
   "metadata": {},
   "outputs": [],
   "source": [
    "heatmap = heatmap/heatmap.sum(axis=0,keepdims=1)"
   ]
  },
  {
   "cell_type": "code",
   "execution_count": 44,
   "id": "4531932a",
   "metadata": {},
   "outputs": [],
   "source": [
    "data = np.loadtxt('datasets/heatmap2.txt')"
   ]
  },
  {
   "cell_type": "code",
   "execution_count": 45,
   "id": "c120e1c0",
   "metadata": {},
   "outputs": [
    {
     "name": "stdout",
     "output_type": "stream",
     "text": [
      "[0.36863816 0.22625353 0.23309983 0.2217245  0.22136753 0.23856336\n",
      " 0.2949045  0.23439537 0.28828998 0.27198828]\n"
     ]
    }
   ],
   "source": [
    "rmse =np.sqrt(np.mean((heatmap-data)**2, axis=0))\n",
    "print(rmse)"
   ]
  },
  {
   "cell_type": "code",
   "execution_count": 46,
   "id": "579072b7",
   "metadata": {},
   "outputs": [
    {
     "data": {
      "text/plain": [
       "0.2599225028453273"
      ]
     },
     "execution_count": 46,
     "metadata": {},
     "output_type": "execute_result"
    }
   ],
   "source": [
    "np.mean(rmse)"
   ]
  },
  {
   "cell_type": "code",
   "execution_count": 50,
   "id": "23edcdef",
   "metadata": {},
   "outputs": [
    {
     "data": {
      "image/png": "[encoded data removed]",
      "text/plain": [
       "<Figure size 432x288 with 2 Axes>"
      ]
     },
     "metadata": {
      "needs_background": "light"
     },
     "output_type": "display_data"
    }
   ],
   "source": [
    "cmap = sns.cm.rocket_r\n",
    "y_axis_labels = ['small triangle','square','parall','middle triangle','big triangle']\n",
    "x_axis_labels = [1,2,3,4,5,6,7,8,9,10]\n",
    "fig, ax = plt.subplots()\n",
    "sns.heatmap(heatmap,ax=ax,yticklabels=y_axis_labels,xticklabels=x_axis_labels,cmap=cmap,vmin=0, vmax=1)\n",
    "ax.invert_yaxis()\n",
    "plt.show()\n"
   ]
  },
  {
   "cell_type": "markdown",
   "id": "cae51a90",
   "metadata": {},
   "source": [
    "# Sequence evaluation\n",
    "\n",
    "Tangram 2"
   ]
  },
  {
   "cell_type": "code",
   "execution_count": 32,
   "id": "cc966b9e",
   "metadata": {},
   "outputs": [
    {
     "ename": "FileNotFoundError",
     "evalue": "[Errno 2] No such file or directory: 'results/model_states_evolution_2_only_data_cnt.csv'",
     "output_type": "error",
     "traceback": [
      "\u001b[1;31m---------------------------------------------------------------------------\u001b[0m",
      "\u001b[1;31mFileNotFoundError\u001b[0m                         Traceback (most recent call last)",
      "\u001b[1;32m~\\AppData\\Local\\Temp/ipykernel_18972/2896009750.py\u001b[0m in \u001b[0;36m<module>\u001b[1;34m\u001b[0m\n\u001b[0;32m      2\u001b[0m \u001b[0musers\u001b[0m \u001b[1;33m=\u001b[0m \u001b[0mpd\u001b[0m\u001b[1;33m.\u001b[0m\u001b[0mread_csv\u001b[0m\u001b[1;33m(\u001b[0m\u001b[1;34m'datasets/train_states.csv'\u001b[0m\u001b[1;33m)\u001b[0m\u001b[1;33m\u001b[0m\u001b[1;33m\u001b[0m\u001b[0m\n\u001b[0;32m      3\u001b[0m \u001b[0musers\u001b[0m \u001b[1;33m=\u001b[0m \u001b[0musers\u001b[0m\u001b[1;33m.\u001b[0m\u001b[0mloc\u001b[0m\u001b[1;33m[\u001b[0m\u001b[0musers\u001b[0m\u001b[1;33m[\u001b[0m\u001b[1;34m'tangram nr'\u001b[0m\u001b[1;33m]\u001b[0m \u001b[1;33m==\u001b[0m\u001b[0mtgn\u001b[0m\u001b[1;33m]\u001b[0m\u001b[1;33m\u001b[0m\u001b[1;33m\u001b[0m\u001b[0m\n\u001b[1;32m----> 4\u001b[1;33m \u001b[0mmodel\u001b[0m \u001b[1;33m=\u001b[0m \u001b[0mpd\u001b[0m\u001b[1;33m.\u001b[0m\u001b[0mread_csv\u001b[0m\u001b[1;33m(\u001b[0m\u001b[1;34mf'results/model_states_evolution_{tgn}_only_data_cnt.csv'\u001b[0m\u001b[1;33m)\u001b[0m\u001b[1;33m\u001b[0m\u001b[1;33m\u001b[0m\u001b[0m\n\u001b[0m",
      "\u001b[1;32m~\\anaconda3\\lib\\site-packages\\pandas\\util\\_decorators.py\u001b[0m in \u001b[0;36mwrapper\u001b[1;34m(*args, **kwargs)\u001b[0m\n\u001b[0;32m    309\u001b[0m                     \u001b[0mstacklevel\u001b[0m\u001b[1;33m=\u001b[0m\u001b[0mstacklevel\u001b[0m\u001b[1;33m,\u001b[0m\u001b[1;33m\u001b[0m\u001b[1;33m\u001b[0m\u001b[0m\n\u001b[0;32m    310\u001b[0m                 )\n\u001b[1;32m--> 311\u001b[1;33m             \u001b[1;32mreturn\u001b[0m \u001b[0mfunc\u001b[0m\u001b[1;33m(\u001b[0m\u001b[1;33m*\u001b[0m\u001b[0margs\u001b[0m\u001b[1;33m,\u001b[0m \u001b[1;33m**\u001b[0m\u001b[0mkwargs\u001b[0m\u001b[1;33m)\u001b[0m\u001b[1;33m\u001b[0m\u001b[1;33m\u001b[0m\u001b[0m\n\u001b[0m\u001b[0;32m    312\u001b[0m \u001b[1;33m\u001b[0m\u001b[0m\n\u001b[0;32m    313\u001b[0m         \u001b[1;32mreturn\u001b[0m \u001b[0mwrapper\u001b[0m\u001b[1;33m\u001b[0m\u001b[1;33m\u001b[0m\u001b[0m\n",
      "\u001b[1;32m~\\anaconda3\\lib\\site-packages\\pandas\\io\\parsers\\readers.py\u001b[0m in \u001b[0;36mread_csv\u001b[1;34m(filepath_or_buffer, sep, delimiter, header, names, index_col, usecols, squeeze, prefix, mangle_dupe_cols, dtype, engine, converters, true_values, false_values, skipinitialspace, skiprows, skipfooter, nrows, na_values, keep_default_na, na_filter, verbose, skip_blank_lines, parse_dates, infer_datetime_format, keep_date_col, date_parser, dayfirst, cache_dates, iterator, chunksize, compression, thousands, decimal, lineterminator, quotechar, quoting, doublequote, escapechar, comment, encoding, encoding_errors, dialect, error_bad_lines, warn_bad_lines, on_bad_lines, delim_whitespace, low_memory, memory_map, float_precision, storage_options)\u001b[0m\n\u001b[0;32m    584\u001b[0m     \u001b[0mkwds\u001b[0m\u001b[1;33m.\u001b[0m\u001b[0mupdate\u001b[0m\u001b[1;33m(\u001b[0m\u001b[0mkwds_defaults\u001b[0m\u001b[1;33m)\u001b[0m\u001b[1;33m\u001b[0m\u001b[1;33m\u001b[0m\u001b[0m\n\u001b[0;32m    585\u001b[0m \u001b[1;33m\u001b[0m\u001b[0m\n\u001b[1;32m--> 586\u001b[1;33m     \u001b[1;32mreturn\u001b[0m \u001b[0m_read\u001b[0m\u001b[1;33m(\u001b[0m\u001b[0mfilepath_or_buffer\u001b[0m\u001b[1;33m,\u001b[0m \u001b[0mkwds\u001b[0m\u001b[1;33m)\u001b[0m\u001b[1;33m\u001b[0m\u001b[1;33m\u001b[0m\u001b[0m\n\u001b[0m\u001b[0;32m    587\u001b[0m \u001b[1;33m\u001b[0m\u001b[0m\n\u001b[0;32m    588\u001b[0m \u001b[1;33m\u001b[0m\u001b[0m\n",
      "\u001b[1;32m~\\anaconda3\\lib\\site-packages\\pandas\\io\\parsers\\readers.py\u001b[0m in \u001b[0;36m_read\u001b[1;34m(filepath_or_buffer, kwds)\u001b[0m\n\u001b[0;32m    480\u001b[0m \u001b[1;33m\u001b[0m\u001b[0m\n\u001b[0;32m    481\u001b[0m     \u001b[1;31m# Create the parser.\u001b[0m\u001b[1;33m\u001b[0m\u001b[1;33m\u001b[0m\u001b[0m\n\u001b[1;32m--> 482\u001b[1;33m     \u001b[0mparser\u001b[0m \u001b[1;33m=\u001b[0m \u001b[0mTextFileReader\u001b[0m\u001b[1;33m(\u001b[0m\u001b[0mfilepath_or_buffer\u001b[0m\u001b[1;33m,\u001b[0m \u001b[1;33m**\u001b[0m\u001b[0mkwds\u001b[0m\u001b[1;33m)\u001b[0m\u001b[1;33m\u001b[0m\u001b[1;33m\u001b[0m\u001b[0m\n\u001b[0m\u001b[0;32m    483\u001b[0m \u001b[1;33m\u001b[0m\u001b[0m\n\u001b[0;32m    484\u001b[0m     \u001b[1;32mif\u001b[0m \u001b[0mchunksize\u001b[0m \u001b[1;32mor\u001b[0m \u001b[0miterator\u001b[0m\u001b[1;33m:\u001b[0m\u001b[1;33m\u001b[0m\u001b[1;33m\u001b[0m\u001b[0m\n",
      "\u001b[1;32m~\\anaconda3\\lib\\site-packages\\pandas\\io\\parsers\\readers.py\u001b[0m in \u001b[0;36m__init__\u001b[1;34m(self, f, engine, **kwds)\u001b[0m\n\u001b[0;32m    809\u001b[0m             \u001b[0mself\u001b[0m\u001b[1;33m.\u001b[0m\u001b[0moptions\u001b[0m\u001b[1;33m[\u001b[0m\u001b[1;34m\"has_index_names\"\u001b[0m\u001b[1;33m]\u001b[0m \u001b[1;33m=\u001b[0m \u001b[0mkwds\u001b[0m\u001b[1;33m[\u001b[0m\u001b[1;34m\"has_index_names\"\u001b[0m\u001b[1;33m]\u001b[0m\u001b[1;33m\u001b[0m\u001b[1;33m\u001b[0m\u001b[0m\n\u001b[0;32m    810\u001b[0m \u001b[1;33m\u001b[0m\u001b[0m\n\u001b[1;32m--> 811\u001b[1;33m         \u001b[0mself\u001b[0m\u001b[1;33m.\u001b[0m\u001b[0m_engine\u001b[0m \u001b[1;33m=\u001b[0m \u001b[0mself\u001b[0m\u001b[1;33m.\u001b[0m\u001b[0m_make_engine\u001b[0m\u001b[1;33m(\u001b[0m\u001b[0mself\u001b[0m\u001b[1;33m.\u001b[0m\u001b[0mengine\u001b[0m\u001b[1;33m)\u001b[0m\u001b[1;33m\u001b[0m\u001b[1;33m\u001b[0m\u001b[0m\n\u001b[0m\u001b[0;32m    812\u001b[0m \u001b[1;33m\u001b[0m\u001b[0m\n\u001b[0;32m    813\u001b[0m     \u001b[1;32mdef\u001b[0m \u001b[0mclose\u001b[0m\u001b[1;33m(\u001b[0m\u001b[0mself\u001b[0m\u001b[1;33m)\u001b[0m\u001b[1;33m:\u001b[0m\u001b[1;33m\u001b[0m\u001b[1;33m\u001b[0m\u001b[0m\n",
      "\u001b[1;32m~\\anaconda3\\lib\\site-packages\\pandas\\io\\parsers\\readers.py\u001b[0m in \u001b[0;36m_make_engine\u001b[1;34m(self, engine)\u001b[0m\n\u001b[0;32m   1038\u001b[0m             )\n\u001b[0;32m   1039\u001b[0m         \u001b[1;31m# error: Too many arguments for \"ParserBase\"\u001b[0m\u001b[1;33m\u001b[0m\u001b[1;33m\u001b[0m\u001b[0m\n\u001b[1;32m-> 1040\u001b[1;33m         \u001b[1;32mreturn\u001b[0m \u001b[0mmapping\u001b[0m\u001b[1;33m[\u001b[0m\u001b[0mengine\u001b[0m\u001b[1;33m]\u001b[0m\u001b[1;33m(\u001b[0m\u001b[0mself\u001b[0m\u001b[1;33m.\u001b[0m\u001b[0mf\u001b[0m\u001b[1;33m,\u001b[0m \u001b[1;33m**\u001b[0m\u001b[0mself\u001b[0m\u001b[1;33m.\u001b[0m\u001b[0moptions\u001b[0m\u001b[1;33m)\u001b[0m  \u001b[1;31m# type: ignore[call-arg]\u001b[0m\u001b[1;33m\u001b[0m\u001b[1;33m\u001b[0m\u001b[0m\n\u001b[0m\u001b[0;32m   1041\u001b[0m \u001b[1;33m\u001b[0m\u001b[0m\n\u001b[0;32m   1042\u001b[0m     \u001b[1;32mdef\u001b[0m \u001b[0m_failover_to_python\u001b[0m\u001b[1;33m(\u001b[0m\u001b[0mself\u001b[0m\u001b[1;33m)\u001b[0m\u001b[1;33m:\u001b[0m\u001b[1;33m\u001b[0m\u001b[1;33m\u001b[0m\u001b[0m\n",
      "\u001b[1;32m~\\anaconda3\\lib\\site-packages\\pandas\\io\\parsers\\c_parser_wrapper.py\u001b[0m in \u001b[0;36m__init__\u001b[1;34m(self, src, **kwds)\u001b[0m\n\u001b[0;32m     49\u001b[0m \u001b[1;33m\u001b[0m\u001b[0m\n\u001b[0;32m     50\u001b[0m         \u001b[1;31m# open handles\u001b[0m\u001b[1;33m\u001b[0m\u001b[1;33m\u001b[0m\u001b[0m\n\u001b[1;32m---> 51\u001b[1;33m         \u001b[0mself\u001b[0m\u001b[1;33m.\u001b[0m\u001b[0m_open_handles\u001b[0m\u001b[1;33m(\u001b[0m\u001b[0msrc\u001b[0m\u001b[1;33m,\u001b[0m \u001b[0mkwds\u001b[0m\u001b[1;33m)\u001b[0m\u001b[1;33m\u001b[0m\u001b[1;33m\u001b[0m\u001b[0m\n\u001b[0m\u001b[0;32m     52\u001b[0m         \u001b[1;32massert\u001b[0m \u001b[0mself\u001b[0m\u001b[1;33m.\u001b[0m\u001b[0mhandles\u001b[0m \u001b[1;32mis\u001b[0m \u001b[1;32mnot\u001b[0m \u001b[1;32mNone\u001b[0m\u001b[1;33m\u001b[0m\u001b[1;33m\u001b[0m\u001b[0m\n\u001b[0;32m     53\u001b[0m \u001b[1;33m\u001b[0m\u001b[0m\n",
      "\u001b[1;32m~\\anaconda3\\lib\\site-packages\\pandas\\io\\parsers\\base_parser.py\u001b[0m in \u001b[0;36m_open_handles\u001b[1;34m(self, src, kwds)\u001b[0m\n\u001b[0;32m    220\u001b[0m         \u001b[0mLet\u001b[0m \u001b[0mthe\u001b[0m \u001b[0mreaders\u001b[0m \u001b[0mopen\u001b[0m \u001b[0mIOHandles\u001b[0m \u001b[0mafter\u001b[0m \u001b[0mthey\u001b[0m \u001b[0mare\u001b[0m \u001b[0mdone\u001b[0m \u001b[1;32mwith\u001b[0m \u001b[0mtheir\u001b[0m \u001b[0mpotential\u001b[0m \u001b[0mraises\u001b[0m\u001b[1;33m.\u001b[0m\u001b[1;33m\u001b[0m\u001b[1;33m\u001b[0m\u001b[0m\n\u001b[0;32m    221\u001b[0m         \"\"\"\n\u001b[1;32m--> 222\u001b[1;33m         self.handles = get_handle(\n\u001b[0m\u001b[0;32m    223\u001b[0m             \u001b[0msrc\u001b[0m\u001b[1;33m,\u001b[0m\u001b[1;33m\u001b[0m\u001b[1;33m\u001b[0m\u001b[0m\n\u001b[0;32m    224\u001b[0m             \u001b[1;34m\"r\"\u001b[0m\u001b[1;33m,\u001b[0m\u001b[1;33m\u001b[0m\u001b[1;33m\u001b[0m\u001b[0m\n",
      "\u001b[1;32m~\\anaconda3\\lib\\site-packages\\pandas\\io\\common.py\u001b[0m in \u001b[0;36mget_handle\u001b[1;34m(path_or_buf, mode, encoding, compression, memory_map, is_text, errors, storage_options)\u001b[0m\n\u001b[0;32m    700\u001b[0m         \u001b[1;32mif\u001b[0m \u001b[0mioargs\u001b[0m\u001b[1;33m.\u001b[0m\u001b[0mencoding\u001b[0m \u001b[1;32mand\u001b[0m \u001b[1;34m\"b\"\u001b[0m \u001b[1;32mnot\u001b[0m \u001b[1;32min\u001b[0m \u001b[0mioargs\u001b[0m\u001b[1;33m.\u001b[0m\u001b[0mmode\u001b[0m\u001b[1;33m:\u001b[0m\u001b[1;33m\u001b[0m\u001b[1;33m\u001b[0m\u001b[0m\n\u001b[0;32m    701\u001b[0m             \u001b[1;31m# Encoding\u001b[0m\u001b[1;33m\u001b[0m\u001b[1;33m\u001b[0m\u001b[0m\n\u001b[1;32m--> 702\u001b[1;33m             handle = open(\n\u001b[0m\u001b[0;32m    703\u001b[0m                 \u001b[0mhandle\u001b[0m\u001b[1;33m,\u001b[0m\u001b[1;33m\u001b[0m\u001b[1;33m\u001b[0m\u001b[0m\n\u001b[0;32m    704\u001b[0m                 \u001b[0mioargs\u001b[0m\u001b[1;33m.\u001b[0m\u001b[0mmode\u001b[0m\u001b[1;33m,\u001b[0m\u001b[1;33m\u001b[0m\u001b[1;33m\u001b[0m\u001b[0m\n",
      "\u001b[1;31mFileNotFoundError\u001b[0m: [Errno 2] No such file or directory: 'results/model_states_evolution_2_only_data_cnt.csv'"
     ]
    }
   ],
   "source": [
    "tgn = 2\n",
    "users = pd.read_csv('datasets/train_states.csv')\n",
    "users = users.loc[users['tangram nr'] ==tgn]\n",
    "model = pd.read_csv(f'results/model_states_evolution_{tgn}_only_data_cnt.csv')"
   ]
  },
  {
   "cell_type": "markdown",
   "id": "99ee1673",
   "metadata": {},
   "source": [
    "## Method1: step-by-step matching\n",
    "\n",
    "For each run, the model gets its score by comparing the position at each step with user data at step +-1, scoring 1 point if there is any match"
   ]
  },
  {
   "cell_type": "code",
   "execution_count": 31,
   "id": "6e7cf572",
   "metadata": {},
   "outputs": [
    {
     "ename": "NameError",
     "evalue": "name 'model' is not defined",
     "output_type": "error",
     "traceback": [
      "\u001b[1;31m---------------------------------------------------------------------------\u001b[0m",
      "\u001b[1;31mNameError\u001b[0m                                 Traceback (most recent call last)",
      "\u001b[1;32m~\\AppData\\Local\\Temp/ipykernel_18972/446398090.py\u001b[0m in \u001b[0;36m<module>\u001b[1;34m\u001b[0m\n\u001b[0;32m      4\u001b[0m \u001b[0mmax_score\u001b[0m \u001b[1;33m=\u001b[0m \u001b[1;36m0\u001b[0m\u001b[1;33m\u001b[0m\u001b[1;33m\u001b[0m\u001b[0m\n\u001b[0;32m      5\u001b[0m \u001b[0merrors\u001b[0m\u001b[1;33m=\u001b[0m \u001b[1;36m0\u001b[0m\u001b[1;33m\u001b[0m\u001b[1;33m\u001b[0m\u001b[0m\n\u001b[1;32m----> 6\u001b[1;33m \u001b[1;32mfor\u001b[0m \u001b[0mrun\u001b[0m \u001b[1;32min\u001b[0m \u001b[0mmodel\u001b[0m\u001b[1;33m.\u001b[0m\u001b[0mrun\u001b[0m\u001b[1;33m.\u001b[0m\u001b[0munique\u001b[0m\u001b[1;33m(\u001b[0m\u001b[1;33m)\u001b[0m\u001b[1;33m:\u001b[0m\u001b[1;33m\u001b[0m\u001b[1;33m\u001b[0m\u001b[0m\n\u001b[0m\u001b[0;32m      7\u001b[0m     \u001b[0mrun_steps\u001b[0m \u001b[1;33m=\u001b[0m \u001b[0mmodel\u001b[0m\u001b[1;33m.\u001b[0m\u001b[0mloc\u001b[0m\u001b[1;33m[\u001b[0m\u001b[0mmodel\u001b[0m\u001b[1;33m.\u001b[0m\u001b[0mrun\u001b[0m \u001b[1;33m==\u001b[0m \u001b[0mrun\u001b[0m\u001b[1;33m]\u001b[0m\u001b[1;33m\u001b[0m\u001b[1;33m\u001b[0m\u001b[0m\n\u001b[0;32m      8\u001b[0m     \u001b[1;32mif\u001b[0m \u001b[0mlen\u001b[0m\u001b[1;33m(\u001b[0m\u001b[0mrun_steps\u001b[0m\u001b[1;33m)\u001b[0m \u001b[1;33m<\u001b[0m \u001b[1;36m17\u001b[0m\u001b[1;33m:\u001b[0m\u001b[1;33m\u001b[0m\u001b[1;33m\u001b[0m\u001b[0m\n",
      "\u001b[1;31mNameError\u001b[0m: name 'model' is not defined"
     ]
    }
   ],
   "source": [
    "limits = {2:int(10.8+6.9),4:int(12.4+6.5)}\n",
    "offset = [1,2,3,3,3]\n",
    "score = 0\n",
    "max_score = 0\n",
    "errors= 0\n",
    "for run in model.run.unique():\n",
    "    run_steps = model.loc[model.run == run]\n",
    "    if len(run_steps) < 17:\n",
    "        errors+=1\n",
    "        continue\n",
    "    for step in range(3,limits.get(tgn)):\n",
    "        \n",
    "        \n",
    "        state = run_steps.iloc[step-1][['small triangle','middle triangle','big triangle','square','parallelogram']]\n",
    "        previous = run_steps.iloc[step-2][['small triangle','middle triangle','big triangle','square','parallelogram']]\n",
    "        last_state = run_steps.iloc[-1][['small triangle','middle triangle','big triangle','square','parallelogram']]\n",
    "        if not (state.equals(last_state) and state.equals(previous)):\n",
    "            max_score +=1\n",
    "            users_at_step = users.loc[users['step'].isin(list(range(step-offset[step//4], step + offset[step//4]+1)))][['small triangle','middle triangle','big triangle','square','parallelogram']]\n",
    "            res= users_at_step.loc[\n",
    "                (users_at_step['small triangle'] == state['small triangle']) &\n",
    "                (users_at_step['middle triangle'] == state['middle triangle']) &\n",
    "                (users_at_step['big triangle'] == state['big triangle']) &\n",
    "                (users_at_step['square'] == state['square']) &\n",
    "                (users_at_step['parallelogram'] == state['parallelogram'])\n",
    "            ]\n",
    "            if not res.empty:\n",
    "                score+=1\n",
    "print(score)\n",
    "print(max_score)\n",
    "print(score/max_score)\n",
    "print(errors)"
   ]
  },
  {
   "cell_type": "code",
   "execution_count": null,
   "id": "40b372aa",
   "metadata": {},
   "outputs": [],
   "source": []
  },
  {
   "cell_type": "code",
   "execution_count": 221,
   "id": "d488344d",
   "metadata": {},
   "outputs": [
    {
     "ename": "IndexError",
     "evalue": "single positional indexer is out-of-bounds",
     "output_type": "error",
     "traceback": [
      "\u001b[1;31m---------------------------------------------------------------------------\u001b[0m",
      "\u001b[1;31mIndexError\u001b[0m                                Traceback (most recent call last)",
      "\u001b[1;32m~\\AppData\\Local\\Temp/ipykernel_18520/137434800.py\u001b[0m in \u001b[0;36m<module>\u001b[1;34m\u001b[0m\n\u001b[0;32m      4\u001b[0m     \u001b[0mrun_steps\u001b[0m \u001b[1;33m=\u001b[0m \u001b[0mmodel\u001b[0m\u001b[1;33m.\u001b[0m\u001b[0mloc\u001b[0m\u001b[1;33m[\u001b[0m\u001b[0mmodel\u001b[0m\u001b[1;33m.\u001b[0m\u001b[0mrun\u001b[0m \u001b[1;33m==\u001b[0m \u001b[0mrun\u001b[0m\u001b[1;33m]\u001b[0m\u001b[1;33m\u001b[0m\u001b[1;33m\u001b[0m\u001b[0m\n\u001b[0;32m      5\u001b[0m     \u001b[1;32mfor\u001b[0m \u001b[0mstep\u001b[0m \u001b[1;32min\u001b[0m \u001b[0mrange\u001b[0m\u001b[1;33m(\u001b[0m\u001b[1;36m3\u001b[0m\u001b[1;33m,\u001b[0m\u001b[1;36m12\u001b[0m\u001b[1;33m)\u001b[0m\u001b[1;33m:\u001b[0m\u001b[1;33m\u001b[0m\u001b[1;33m\u001b[0m\u001b[0m\n\u001b[1;32m----> 6\u001b[1;33m         \u001b[0mstate\u001b[0m \u001b[1;33m=\u001b[0m \u001b[0mrun_steps\u001b[0m\u001b[1;33m.\u001b[0m\u001b[0miloc\u001b[0m\u001b[1;33m[\u001b[0m\u001b[0mstep\u001b[0m\u001b[1;33m]\u001b[0m\u001b[1;33m[\u001b[0m\u001b[1;33m[\u001b[0m\u001b[1;34m'small triangle'\u001b[0m\u001b[1;33m,\u001b[0m\u001b[1;34m'middle triangle'\u001b[0m\u001b[1;33m,\u001b[0m\u001b[1;34m'big triangle'\u001b[0m\u001b[1;33m,\u001b[0m\u001b[1;34m'square'\u001b[0m\u001b[1;33m,\u001b[0m\u001b[1;34m'parallelogram'\u001b[0m\u001b[1;33m]\u001b[0m\u001b[1;33m]\u001b[0m\u001b[1;33m\u001b[0m\u001b[1;33m\u001b[0m\u001b[0m\n\u001b[0m\u001b[0;32m      7\u001b[0m         \u001b[0mprevious\u001b[0m \u001b[1;33m=\u001b[0m \u001b[0mrun_steps\u001b[0m\u001b[1;33m.\u001b[0m\u001b[0miloc\u001b[0m\u001b[1;33m[\u001b[0m\u001b[0mstep\u001b[0m\u001b[1;33m-\u001b[0m\u001b[1;36m1\u001b[0m\u001b[1;33m]\u001b[0m\u001b[1;33m[\u001b[0m\u001b[1;33m[\u001b[0m\u001b[1;34m'small triangle'\u001b[0m\u001b[1;33m,\u001b[0m\u001b[1;34m'middle triangle'\u001b[0m\u001b[1;33m,\u001b[0m\u001b[1;34m'big triangle'\u001b[0m\u001b[1;33m,\u001b[0m\u001b[1;34m'square'\u001b[0m\u001b[1;33m,\u001b[0m\u001b[1;34m'parallelogram'\u001b[0m\u001b[1;33m]\u001b[0m\u001b[1;33m]\u001b[0m\u001b[1;33m\u001b[0m\u001b[1;33m\u001b[0m\u001b[0m\n\u001b[0;32m      8\u001b[0m         \u001b[0mlast_state\u001b[0m \u001b[1;33m=\u001b[0m \u001b[0mrun_steps\u001b[0m\u001b[1;33m.\u001b[0m\u001b[0miloc\u001b[0m\u001b[1;33m[\u001b[0m\u001b[1;33m-\u001b[0m\u001b[1;36m1\u001b[0m\u001b[1;33m]\u001b[0m\u001b[1;33m[\u001b[0m\u001b[1;33m[\u001b[0m\u001b[1;34m'small triangle'\u001b[0m\u001b[1;33m,\u001b[0m\u001b[1;34m'middle triangle'\u001b[0m\u001b[1;33m,\u001b[0m\u001b[1;34m'big triangle'\u001b[0m\u001b[1;33m,\u001b[0m\u001b[1;34m'square'\u001b[0m\u001b[1;33m,\u001b[0m\u001b[1;34m'parallelogram'\u001b[0m\u001b[1;33m]\u001b[0m\u001b[1;33m]\u001b[0m\u001b[1;33m\u001b[0m\u001b[1;33m\u001b[0m\u001b[0m\n",
      "\u001b[1;32m~\\anaconda3\\lib\\site-packages\\pandas\\core\\indexing.py\u001b[0m in \u001b[0;36m__getitem__\u001b[1;34m(self, key)\u001b[0m\n\u001b[0;32m    929\u001b[0m \u001b[1;33m\u001b[0m\u001b[0m\n\u001b[0;32m    930\u001b[0m             \u001b[0mmaybe_callable\u001b[0m \u001b[1;33m=\u001b[0m \u001b[0mcom\u001b[0m\u001b[1;33m.\u001b[0m\u001b[0mapply_if_callable\u001b[0m\u001b[1;33m(\u001b[0m\u001b[0mkey\u001b[0m\u001b[1;33m,\u001b[0m \u001b[0mself\u001b[0m\u001b[1;33m.\u001b[0m\u001b[0mobj\u001b[0m\u001b[1;33m)\u001b[0m\u001b[1;33m\u001b[0m\u001b[1;33m\u001b[0m\u001b[0m\n\u001b[1;32m--> 931\u001b[1;33m             \u001b[1;32mreturn\u001b[0m \u001b[0mself\u001b[0m\u001b[1;33m.\u001b[0m\u001b[0m_getitem_axis\u001b[0m\u001b[1;33m(\u001b[0m\u001b[0mmaybe_callable\u001b[0m\u001b[1;33m,\u001b[0m \u001b[0maxis\u001b[0m\u001b[1;33m=\u001b[0m\u001b[0maxis\u001b[0m\u001b[1;33m)\u001b[0m\u001b[1;33m\u001b[0m\u001b[1;33m\u001b[0m\u001b[0m\n\u001b[0m\u001b[0;32m    932\u001b[0m \u001b[1;33m\u001b[0m\u001b[0m\n\u001b[0;32m    933\u001b[0m     \u001b[1;32mdef\u001b[0m \u001b[0m_is_scalar_access\u001b[0m\u001b[1;33m(\u001b[0m\u001b[0mself\u001b[0m\u001b[1;33m,\u001b[0m \u001b[0mkey\u001b[0m\u001b[1;33m:\u001b[0m \u001b[0mtuple\u001b[0m\u001b[1;33m)\u001b[0m\u001b[1;33m:\u001b[0m\u001b[1;33m\u001b[0m\u001b[1;33m\u001b[0m\u001b[0m\n",
      "\u001b[1;32m~\\anaconda3\\lib\\site-packages\\pandas\\core\\indexing.py\u001b[0m in \u001b[0;36m_getitem_axis\u001b[1;34m(self, key, axis)\u001b[0m\n\u001b[0;32m   1564\u001b[0m \u001b[1;33m\u001b[0m\u001b[0m\n\u001b[0;32m   1565\u001b[0m             \u001b[1;31m# validate the location\u001b[0m\u001b[1;33m\u001b[0m\u001b[1;33m\u001b[0m\u001b[0m\n\u001b[1;32m-> 1566\u001b[1;33m             \u001b[0mself\u001b[0m\u001b[1;33m.\u001b[0m\u001b[0m_validate_integer\u001b[0m\u001b[1;33m(\u001b[0m\u001b[0mkey\u001b[0m\u001b[1;33m,\u001b[0m \u001b[0maxis\u001b[0m\u001b[1;33m)\u001b[0m\u001b[1;33m\u001b[0m\u001b[1;33m\u001b[0m\u001b[0m\n\u001b[0m\u001b[0;32m   1567\u001b[0m \u001b[1;33m\u001b[0m\u001b[0m\n\u001b[0;32m   1568\u001b[0m             \u001b[1;32mreturn\u001b[0m \u001b[0mself\u001b[0m\u001b[1;33m.\u001b[0m\u001b[0mobj\u001b[0m\u001b[1;33m.\u001b[0m\u001b[0m_ixs\u001b[0m\u001b[1;33m(\u001b[0m\u001b[0mkey\u001b[0m\u001b[1;33m,\u001b[0m \u001b[0maxis\u001b[0m\u001b[1;33m=\u001b[0m\u001b[0maxis\u001b[0m\u001b[1;33m)\u001b[0m\u001b[1;33m\u001b[0m\u001b[1;33m\u001b[0m\u001b[0m\n",
      "\u001b[1;32m~\\anaconda3\\lib\\site-packages\\pandas\\core\\indexing.py\u001b[0m in \u001b[0;36m_validate_integer\u001b[1;34m(self, key, axis)\u001b[0m\n\u001b[0;32m   1498\u001b[0m         \u001b[0mlen_axis\u001b[0m \u001b[1;33m=\u001b[0m \u001b[0mlen\u001b[0m\u001b[1;33m(\u001b[0m\u001b[0mself\u001b[0m\u001b[1;33m.\u001b[0m\u001b[0mobj\u001b[0m\u001b[1;33m.\u001b[0m\u001b[0m_get_axis\u001b[0m\u001b[1;33m(\u001b[0m\u001b[0maxis\u001b[0m\u001b[1;33m)\u001b[0m\u001b[1;33m)\u001b[0m\u001b[1;33m\u001b[0m\u001b[1;33m\u001b[0m\u001b[0m\n\u001b[0;32m   1499\u001b[0m         \u001b[1;32mif\u001b[0m \u001b[0mkey\u001b[0m \u001b[1;33m>=\u001b[0m \u001b[0mlen_axis\u001b[0m \u001b[1;32mor\u001b[0m \u001b[0mkey\u001b[0m \u001b[1;33m<\u001b[0m \u001b[1;33m-\u001b[0m\u001b[0mlen_axis\u001b[0m\u001b[1;33m:\u001b[0m\u001b[1;33m\u001b[0m\u001b[1;33m\u001b[0m\u001b[0m\n\u001b[1;32m-> 1500\u001b[1;33m             \u001b[1;32mraise\u001b[0m \u001b[0mIndexError\u001b[0m\u001b[1;33m(\u001b[0m\u001b[1;34m\"single positional indexer is out-of-bounds\"\u001b[0m\u001b[1;33m)\u001b[0m\u001b[1;33m\u001b[0m\u001b[1;33m\u001b[0m\u001b[0m\n\u001b[0m\u001b[0;32m   1501\u001b[0m \u001b[1;33m\u001b[0m\u001b[0m\n\u001b[0;32m   1502\u001b[0m     \u001b[1;31m# -------------------------------------------------------------------\u001b[0m\u001b[1;33m\u001b[0m\u001b[1;33m\u001b[0m\u001b[0m\n",
      "\u001b[1;31mIndexError\u001b[0m: single positional indexer is out-of-bounds"
     ]
    }
   ],
   "source": [
    "score = 0\n",
    "max_score = 0\n",
    "for run in model.run.unique():\n",
    "    run_steps = model.loc[model.run == run]\n",
    "    for step in range(3,12):\n",
    "        state = run_steps.iloc[step][['small triangle','middle triangle','big triangle','square','parallelogram']]\n",
    "        previous = run_steps.iloc[step-1][['small triangle','middle triangle','big triangle','square','parallelogram']]\n",
    "        last_state = run_steps.iloc[-1][['small triangle','middle triangle','big triangle','square','parallelogram']]\n",
    "        if not (state.equals(last_state) and state.equals(previous)):\n",
    "            max_score +=1\n",
    "            users_at_step = users.loc[users['step'].isin([step-1,step,step+1])][['small triangle','middle triangle','big triangle','square','parallelogram']]\n",
    "            res= users_at_step.loc[\n",
    "                (users_at_step['small triangle'] == state['small triangle']) &\n",
    "                (users_at_step['middle triangle'] == state['middle triangle']) &\n",
    "                (users_at_step['big triangle'] == state['big triangle']) &\n",
    "                (users_at_step['square'] == state['square']) &\n",
    "                (users_at_step['parallelogram'] == state['parallelogram'])\n",
    "            ]\n",
    "            if not res.empty:\n",
    "                score+=1\n",
    "print(score)\n",
    "print(max_score)\n",
    "print(score/max_score)"
   ]
  },
  {
   "cell_type": "code",
   "execution_count": null,
   "id": "d28afb9c",
   "metadata": {},
   "outputs": [],
   "source": []
  },
  {
   "cell_type": "code",
   "execution_count": null,
   "id": "2c70f29c",
   "metadata": {},
   "outputs": [],
   "source": []
  },
  {
   "cell_type": "markdown",
   "id": "fb57c6e3",
   "metadata": {},
   "source": [
    "## Method1: rms"
   ]
  },
  {
   "cell_type": "code",
   "execution_count": 166,
   "id": "0e87bb81",
   "metadata": {},
   "outputs": [
    {
     "data": {
      "text/plain": [
       "array([2.29492193, 2.40138849, 2.20605228, 2.18326972, 2.34520788,\n",
       "       2.20605228, 2.30940108, 2.10554823, 1.97484177, 2.25831796,\n",
       "       2.20605228, 2.04939015, 2.01659779])"
      ]
     },
     "execution_count": 166,
     "metadata": {},
     "output_type": "execute_result"
    }
   ],
   "source": [
    "def state_diff(model,user):\n",
    "    diff = 0\n",
    "    for c in ['small triangle','middle triangle','big triangle','square','parallelogram']:\n",
    "        if user[c] != model[c]:\n",
    "            diff +=1\n",
    "    return diff\n",
    "\n",
    "\n",
    "\n",
    "errors = 10*np.ones((len(model.run.unique()),13))\n",
    "for run in model.run.unique():\n",
    "    run_steps = model.loc[model.run == run]\n",
    "    for step in range(3,16):\n",
    "        \n",
    "        state = run_steps.iloc[step-1][['small triangle','middle triangle','big triangle','square','parallelogram']]\n",
    "        previous = run_steps.iloc[step-2][['small triangle','middle triangle','big triangle','square','parallelogram']]\n",
    "        last_state = run_steps.iloc[-1][['small triangle','middle triangle','big triangle','square','parallelogram']]\n",
    "        if not (state.equals(last_state) and state.equals(previous)):\n",
    "            max_score +=1\n",
    "            users_at_step = users.loc[users['step']==step][['small triangle','middle triangle','big triangle','square','parallelogram']]\n",
    "            res = users_at_step.apply(lambda x: state_diff(state,x),axis=1)\n",
    "            rmse = np.sqrt(np.mean((res)**2))\n",
    "            errors[run,step-3] = rmse\n",
    "#             res= users_at_step.loc[\n",
    "#                 (users_at_step['small triangle'] == state['small triangle']) &\n",
    "#                 (users_at_step['middle triangle'] == state['middle triangle']) &\n",
    "#                 (users_at_step['big triangle'] == state['big triangle']) &\n",
    "#                 (users_at_step['square'] == state['square']) &\n",
    "#                 (users_at_step['parallelogram'] == state['parallelogram'])\n",
    "#             ]\n",
    "\n",
    "\n",
    "errors.min(axis=0)"
   ]
  },
  {
   "cell_type": "code",
   "execution_count": null,
   "id": "97da3802",
   "metadata": {},
   "outputs": [],
   "source": []
  },
  {
   "cell_type": "code",
   "execution_count": 160,
   "id": "90903697",
   "metadata": {},
   "outputs": [
    {
     "name": "stdout",
     "output_type": "stream",
     "text": [
      "305\n",
      "305\n",
      "1.0\n"
     ]
    },
    {
     "data": {
      "text/plain": [
       "array([[ 0.,  1.,  0.,  1.,  0.,  0., 10., 10., 10., 10., 10., 10., 10.],\n",
       "       [ 1.,  1.,  1.,  2.,  2.,  2.,  1.,  2.,  1.,  0.,  0., 10., 10.],\n",
       "       [ 1.,  1.,  1.,  0.,  1.,  1.,  1.,  2.,  2.,  0.,  1.,  1.,  1.],\n",
       "       [ 1.,  1.,  1.,  0.,  1.,  1.,  2.,  1.,  1.,  0.,  1.,  1.,  1.],\n",
       "       [ 1.,  1.,  0.,  1.,  1.,  0.,  1.,  1.,  1.,  1.,  0.,  0., 10.],\n",
       "       [ 1.,  2.,  0.,  1.,  0.,  0., 10., 10., 10., 10., 10., 10., 10.],\n",
       "       [ 0.,  0.,  1.,  0.,  1.,  1.,  0.,  0.,  1.,  1.,  1.,  1.,  1.],\n",
       "       [ 1.,  1.,  1.,  0.,  1.,  1.,  0.,  1.,  1.,  1.,  2.,  2.,  1.],\n",
       "       [ 1.,  2.,  2.,  1.,  2.,  1.,  1.,  1.,  1.,  1.,  1.,  0.,  0.],\n",
       "       [ 1.,  1.,  1.,  2.,  2.,  1.,  2.,  2.,  2.,  1.,  0., 10., 10.],\n",
       "       [ 2.,  2.,  1.,  2.,  1.,  1.,  1.,  1.,  1.,  0., 10., 10., 10.],\n",
       "       [ 1.,  0.,  1.,  2.,  0.,  0.,  1.,  1.,  1.,  0.,  1.,  1.,  1.],\n",
       "       [ 1.,  1.,  1.,  1.,  0.,  1.,  1.,  0.,  1.,  1.,  1.,  1.,  0.],\n",
       "       [ 1.,  1.,  1.,  0.,  1.,  1.,  2.,  0.,  1.,  0.,  0., 10., 10.],\n",
       "       [ 1.,  1.,  1.,  0.,  1.,  1.,  2.,  1.,  1.,  0.,  0., 10., 10.],\n",
       "       [ 1.,  2.,  1.,  0.,  1.,  1.,  1.,  2.,  2.,  2.,  1.,  1.,  1.],\n",
       "       [ 1.,  2.,  2.,  3.,  2.,  1.,  0.,  1.,  1.,  1.,  1.,  0.,  0.],\n",
       "       [ 1.,  1.,  0.,  1.,  0.,  0., 10., 10., 10., 10., 10., 10., 10.],\n",
       "       [ 1.,  1.,  1.,  1.,  1.,  2.,  1.,  1.,  1.,  0.,  0., 10., 10.],\n",
       "       [ 0.,  0.,  0.,  1.,  1.,  1.,  1.,  1.,  1.,  1.,  0.,  0.,  0.],\n",
       "       [ 1.,  1.,  2.,  1.,  0.,  1.,  1.,  1.,  1.,  0.,  0., 10., 10.],\n",
       "       [ 2.,  2.,  3.,  1.,  0.,  0.,  0., 10., 10., 10., 10., 10., 10.],\n",
       "       [ 0.,  0.,  0.,  1.,  0.,  0., 10., 10., 10., 10., 10., 10., 10.],\n",
       "       [ 1.,  1.,  1.,  1.,  0.,  0., 10., 10., 10., 10., 10., 10., 10.],\n",
       "       [ 1.,  1.,  1.,  0.,  1.,  1.,  2.,  2.,  1.,  1.,  0.,  0., 10.],\n",
       "       [ 0.,  0.,  0.,  1.,  1.,  1.,  0.,  0.,  0., 10., 10., 10., 10.],\n",
       "       [ 2.,  2.,  2.,  1.,  1.,  0.,  0., 10., 10., 10., 10., 10., 10.],\n",
       "       [ 1.,  1.,  0.,  0.,  0., 10., 10., 10., 10., 10., 10., 10., 10.],\n",
       "       [ 1.,  1.,  1.,  1.,  0.,  0., 10., 10., 10., 10., 10., 10., 10.],\n",
       "       [ 0.,  1.,  1.,  0.,  1.,  1.,  2.,  1.,  1.,  0.,  0., 10., 10.]])"
      ]
     },
     "execution_count": 160,
     "metadata": {},
     "output_type": "execute_result"
    }
   ],
   "source": [
    "def state_diff(model,user):\n",
    "    diff = 0\n",
    "    for c in ['small triangle','middle triangle','big triangle','square','parallelogram']:\n",
    "        if user[c] != model[c]:\n",
    "            diff +=1\n",
    "    return diff\n",
    "\n",
    "\n",
    "score = 0\n",
    "max_score = 0\n",
    "errors = 10*np.ones((len(model.run.unique()),13))\n",
    "for run in model.run.unique():\n",
    "    run_steps = model.loc[model.run == run]\n",
    "    for step in range(3,16):\n",
    "        \n",
    "        state = run_steps.iloc[step-1][['small triangle','middle triangle','big triangle','square','parallelogram']]\n",
    "        previous = run_steps.iloc[step-2][['small triangle','middle triangle','big triangle','square','parallelogram']]\n",
    "        last_state = run_steps.iloc[-1][['small triangle','middle triangle','big triangle','square','parallelogram']]\n",
    "        if not (state.equals(last_state) and state.equals(previous)):\n",
    "            max_score +=1\n",
    "            users_at_step = users.loc[users['step']==step][['small triangle','middle triangle','big triangle','square','parallelogram']]\n",
    "            res = users_at_step.apply(lambda x: state_diff(state,x),axis=1)\n",
    "            errors[run,step-3] = min(res)\n",
    "            if not res.empty:\n",
    "                score+=1\n",
    "print(score)\n",
    "print(max_score)\n",
    " \n",
    "print(score/max_score)\n",
    "\n",
    "errors"
   ]
  },
  {
   "cell_type": "code",
   "execution_count": 74,
   "id": "edda7978",
   "metadata": {},
   "outputs": [],
   "source": [
    "step=3\n",
    "users_at_step = users.loc[users['step']==step][['small triangle','middle triangle','big triangle','square','parallelogram']]\n",
    "run_steps=  model.loc[model.run == 1]\n",
    "state = run_steps.iloc[step-1][['small triangle','middle triangle','big triangle','square','parallelogram']]"
   ]
  },
  {
   "cell_type": "markdown",
   "id": "fd935a09",
   "metadata": {},
   "source": [
    "\n",
    "\n",
    "## Method2: phase-by-phase matching\n",
    "\n",
    "For each run, the results is matched at step 4, 8 and 12, getting incremental points if such sequence also appears in participants data, some margin or error is accepted"
   ]
  },
  {
   "cell_type": "code",
   "execution_count": 72,
   "id": "8e18df76",
   "metadata": {},
   "outputs": [
    {
     "name": "stdout",
     "output_type": "stream",
     "text": [
      "16\n",
      "2\n"
     ]
    }
   ],
   "source": [
    "score=0\n",
    "same_seq= 0\n",
    "for run in model.run.unique():\n",
    "\n",
    "    run_steps = model.loc[model.run == run]\n",
    "    \n",
    "    #step 4\n",
    "    step=4\n",
    "    model_at_step = run_steps.iloc[step-1][['small triangle','middle triangle','big triangle','square','parallelogram']]\n",
    "    users_at_step = users.loc[users['step'].isin(range(step-1,step+2))]\n",
    "    res= users_at_step.loc[\n",
    "                (users_at_step['small triangle'] == model_at_step['small triangle']) &\n",
    "                (users_at_step['middle triangle'] == model_at_step['middle triangle']) &\n",
    "                (users_at_step['big triangle'] == model_at_step['big triangle']) &\n",
    "                (users_at_step['square'] == model_at_step['square']) &\n",
    "                (users_at_step['parallelogram'] == model_at_step['parallelogram'])\n",
    "            ]\n",
    "    if res.empty:\n",
    "        \n",
    "        continue\n",
    "    \n",
    "    score +=1\n",
    "    filtered=  users.loc[users['sid'].isin(res.sid.unique())]\n",
    "    \n",
    "    #step 8\n",
    "    step = 8\n",
    "    model_at_step = run_steps.iloc[step-1][['small triangle','middle triangle','big triangle','square','parallelogram']]\n",
    "    users_at_step = users.loc[users['step'].isin(range(step-2,step+3))]\n",
    "    res= users_at_step.loc[\n",
    "                (users_at_step['small triangle'] == model_at_step['small triangle']) &\n",
    "                (users_at_step['middle triangle'] == model_at_step['middle triangle']) &\n",
    "                (users_at_step['big triangle'] == model_at_step['big triangle']) &\n",
    "                (users_at_step['square'] == model_at_step['square']) &\n",
    "                (users_at_step['parallelogram'] == model_at_step['parallelogram'])\n",
    "            ]\n",
    "    if res.empty:\n",
    "        \n",
    "        continue\n",
    "    \n",
    "    score +=2\n",
    "    filtered=  users.loc[users['sid'].isin(res.sid.unique())]\n",
    "    \n",
    "#     step 8\n",
    "    step = 12\n",
    "    model_at_step = run_steps.iloc[step-1][['small triangle','middle triangle','big triangle','square','parallelogram']]\n",
    "    users_at_step = users.loc[users['step'].isin(range(step-3,step+4))]\n",
    "    res= users_at_step.loc[\n",
    "                (users_at_step['small triangle'] == model_at_step['small triangle']) &\n",
    "                (users_at_step['middle triangle'] == model_at_step['middle triangle']) &\n",
    "                (users_at_step['big triangle'] == model_at_step['big triangle']) &\n",
    "                (users_at_step['square'] == model_at_step['square']) &\n",
    "                (users_at_step['parallelogram'] == model_at_step['parallelogram'])\n",
    "            ]\n",
    "    if res.empty:\n",
    "        \n",
    "        continue\n",
    "    \n",
    "    score +=3\n",
    "    same_seq +=1\n",
    "    filtered=  users.loc[users['sid'].isin(res.sid.unique())]\n",
    "\n",
    "print(score)\n",
    "print(same_seq)"
   ]
  },
  {
   "cell_type": "code",
   "execution_count": null,
   "id": "36cc67be",
   "metadata": {},
   "outputs": [],
   "source": []
  }
 ],
 "metadata": {
  "kernelspec": {
   "display_name": "Python 3 (ipykernel)",
   "language": "python",
   "name": "python3"
  },
  "language_info": {
   "codemirror_mode": {
    "name": "ipython",
    "version": 3
   },
   "file_extension": ".py",
   "mimetype": "text/x-python",
   "name": "python",
   "nbconvert_exporter": "python",
   "pygments_lexer": "ipython3",
   "version": "3.9.7"
  }
 },
 "nbformat": 4,
 "nbformat_minor": 5
}
