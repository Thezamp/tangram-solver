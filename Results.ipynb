{
 "cells": [
  {
   "cell_type": "code",
   "execution_count": 1,
   "id": "cd081665",
   "metadata": {},
   "outputs": [],
   "source": [
    "import pandas as pd\n",
    "import numpy as np\n",
    "import seaborn as sns\n",
    "import matplotlib.pyplot as plt\n",
    "from scipy.stats import norm\n"
   ]
  },
  {
   "cell_type": "markdown",
   "id": "7630afe6",
   "metadata": {},
   "source": [
    "# Data analysis"
   ]
  },
  {
   "cell_type": "code",
   "execution_count": 5,
   "id": "539f62b9",
   "metadata": {},
   "outputs": [
    {
     "data": {
      "text/html": [
       "<div>\n",
       "<style scoped>\n",
       "    .dataframe tbody tr th:only-of-type {\n",
       "        vertical-align: middle;\n",
       "    }\n",
       "\n",
       "    .dataframe tbody tr th {\n",
       "        vertical-align: top;\n",
       "    }\n",
       "\n",
       "    .dataframe thead th {\n",
       "        text-align: right;\n",
       "    }\n",
       "</style>\n",
       "<table border=\"1\" class=\"dataframe\">\n",
       "  <thead>\n",
       "    <tr style=\"text-align: right;\">\n",
       "      <th></th>\n",
       "      <th>Unnamed: 0</th>\n",
       "      <th>sid</th>\n",
       "      <th>tangram nr</th>\n",
       "      <th>item</th>\n",
       "      <th>x</th>\n",
       "      <th>y</th>\n",
       "      <th>rot</th>\n",
       "      <th>grid_val</th>\n",
       "      <th>step</th>\n",
       "      <th>i_item</th>\n",
       "    </tr>\n",
       "  </thead>\n",
       "  <tbody>\n",
       "    <tr>\n",
       "      <th>0</th>\n",
       "      <td>2</td>\n",
       "      <td>114524</td>\n",
       "      <td>1</td>\n",
       "      <td>BIG-T</td>\n",
       "      <td>-100.0</td>\n",
       "      <td>41.0</td>\n",
       "      <td>0.0</td>\n",
       "      <td>17.0</td>\n",
       "      <td>1.0</td>\n",
       "      <td>0</td>\n",
       "    </tr>\n",
       "    <tr>\n",
       "      <th>1</th>\n",
       "      <td>3</td>\n",
       "      <td>114524</td>\n",
       "      <td>1</td>\n",
       "      <td>SMALL-T</td>\n",
       "      <td>-138.0</td>\n",
       "      <td>5.0</td>\n",
       "      <td>225.0</td>\n",
       "      <td>11.0</td>\n",
       "      <td>2.0</td>\n",
       "      <td>3</td>\n",
       "    </tr>\n",
       "    <tr>\n",
       "      <th>2</th>\n",
       "      <td>4</td>\n",
       "      <td>114524</td>\n",
       "      <td>1</td>\n",
       "      <td>SQUARE</td>\n",
       "      <td>-66.0</td>\n",
       "      <td>4.0</td>\n",
       "      <td>0.0</td>\n",
       "      <td>12.0</td>\n",
       "      <td>3.0</td>\n",
       "      <td>5</td>\n",
       "    </tr>\n",
       "    <tr>\n",
       "      <th>3</th>\n",
       "      <td>5</td>\n",
       "      <td>114524</td>\n",
       "      <td>1</td>\n",
       "      <td>SMALL-T</td>\n",
       "      <td>-133.0</td>\n",
       "      <td>3.0</td>\n",
       "      <td>45.0</td>\n",
       "      <td>11.0</td>\n",
       "      <td>4.0</td>\n",
       "      <td>4</td>\n",
       "    </tr>\n",
       "    <tr>\n",
       "      <th>4</th>\n",
       "      <td>6</td>\n",
       "      <td>114524</td>\n",
       "      <td>1</td>\n",
       "      <td>MIDDLE-T</td>\n",
       "      <td>106.0</td>\n",
       "      <td>42.0</td>\n",
       "      <td>0.0</td>\n",
       "      <td>19.0</td>\n",
       "      <td>5.0</td>\n",
       "      <td>2</td>\n",
       "    </tr>\n",
       "    <tr>\n",
       "      <th>...</th>\n",
       "      <td>...</td>\n",
       "      <td>...</td>\n",
       "      <td>...</td>\n",
       "      <td>...</td>\n",
       "      <td>...</td>\n",
       "      <td>...</td>\n",
       "      <td>...</td>\n",
       "      <td>...</td>\n",
       "      <td>...</td>\n",
       "      <td>...</td>\n",
       "    </tr>\n",
       "    <tr>\n",
       "      <th>338</th>\n",
       "      <td>481</td>\n",
       "      <td>150330</td>\n",
       "      <td>4</td>\n",
       "      <td>MIDDLE-T</td>\n",
       "      <td>-111.0</td>\n",
       "      <td>-62.0</td>\n",
       "      <td>225.0</td>\n",
       "      <td>8.0</td>\n",
       "      <td>3.0</td>\n",
       "      <td>2</td>\n",
       "    </tr>\n",
       "    <tr>\n",
       "      <th>339</th>\n",
       "      <td>482</td>\n",
       "      <td>150330</td>\n",
       "      <td>4</td>\n",
       "      <td>PARALL</td>\n",
       "      <td>-190.0</td>\n",
       "      <td>92.0</td>\n",
       "      <td>90.0</td>\n",
       "      <td>11.0</td>\n",
       "      <td>4.0</td>\n",
       "      <td>6</td>\n",
       "    </tr>\n",
       "    <tr>\n",
       "      <th>340</th>\n",
       "      <td>483</td>\n",
       "      <td>150330</td>\n",
       "      <td>4</td>\n",
       "      <td>SQUARE</td>\n",
       "      <td>-65.0</td>\n",
       "      <td>206.0</td>\n",
       "      <td>0.0</td>\n",
       "      <td>23.0</td>\n",
       "      <td>5.0</td>\n",
       "      <td>5</td>\n",
       "    </tr>\n",
       "    <tr>\n",
       "      <th>341</th>\n",
       "      <td>484</td>\n",
       "      <td>150330</td>\n",
       "      <td>4</td>\n",
       "      <td>SMALL-T</td>\n",
       "      <td>-64.0</td>\n",
       "      <td>242.0</td>\n",
       "      <td>0.0</td>\n",
       "      <td>23.0</td>\n",
       "      <td>6.0</td>\n",
       "      <td>3</td>\n",
       "    </tr>\n",
       "    <tr>\n",
       "      <th>342</th>\n",
       "      <td>485</td>\n",
       "      <td>150330</td>\n",
       "      <td>4</td>\n",
       "      <td>SMALL-T</td>\n",
       "      <td>-140.0</td>\n",
       "      <td>-151.0</td>\n",
       "      <td>135.0</td>\n",
       "      <td>2.0</td>\n",
       "      <td>7.0</td>\n",
       "      <td>4</td>\n",
       "    </tr>\n",
       "  </tbody>\n",
       "</table>\n",
       "<p>343 rows × 10 columns</p>\n",
       "</div>"
      ],
      "text/plain": [
       "     Unnamed: 0     sid  tangram nr      item      x      y    rot  grid_val  \\\n",
       "0             2  114524           1     BIG-T -100.0   41.0    0.0      17.0   \n",
       "1             3  114524           1   SMALL-T -138.0    5.0  225.0      11.0   \n",
       "2             4  114524           1    SQUARE  -66.0    4.0    0.0      12.0   \n",
       "3             5  114524           1   SMALL-T -133.0    3.0   45.0      11.0   \n",
       "4             6  114524           1  MIDDLE-T  106.0   42.0    0.0      19.0   \n",
       "..          ...     ...         ...       ...    ...    ...    ...       ...   \n",
       "338         481  150330           4  MIDDLE-T -111.0  -62.0  225.0       8.0   \n",
       "339         482  150330           4    PARALL -190.0   92.0   90.0      11.0   \n",
       "340         483  150330           4    SQUARE  -65.0  206.0    0.0      23.0   \n",
       "341         484  150330           4   SMALL-T  -64.0  242.0    0.0      23.0   \n",
       "342         485  150330           4   SMALL-T -140.0 -151.0  135.0       2.0   \n",
       "\n",
       "     step  i_item  \n",
       "0     1.0       0  \n",
       "1     2.0       3  \n",
       "2     3.0       5  \n",
       "3     4.0       4  \n",
       "4     5.0       2  \n",
       "..    ...     ...  \n",
       "338   3.0       2  \n",
       "339   4.0       6  \n",
       "340   5.0       5  \n",
       "341   6.0       3  \n",
       "342   7.0       4  \n",
       "\n",
       "[343 rows x 10 columns]"
      ]
     },
     "execution_count": 5,
     "metadata": {},
     "output_type": "execute_result"
    }
   ],
   "source": [
    "df = pd.read_csv('./datasets/steps_test.csv')\n",
    "df"
   ]
  },
  {
   "cell_type": "code",
   "execution_count": 8,
   "id": "725df19c",
   "metadata": {},
   "outputs": [
    {
     "data": {
      "text/plain": [
       "array([ 9., 20.,  7., 11.,  9.,  7.])"
      ]
     },
     "execution_count": 8,
     "metadata": {},
     "output_type": "execute_result"
    }
   ],
   "source": [
    "df = pd.read_csv('./datasets/steps_test.csv')\n",
    "df = df.loc[df['tangram nr' ] ==4]\n",
    "df = df[['sid','tangram nr','step']]\n",
    "participants = df.groupby(['sid','tangram nr']).max()['step'].to_numpy()\n",
    "participants"
   ]
  },
  {
   "cell_type": "code",
   "execution_count": 10,
   "id": "f08ac25a",
   "metadata": {},
   "outputs": [
    {
     "data": {
      "image/png": "[encoded data removed]",
      "text/plain": [
       "<Figure size 1200x400 with 2 Axes>"
      ]
     },
     "metadata": {
      "needs_background": "light"
     },
     "output_type": "display_data"
    }
   ],
   "source": [
    "df = pd.read_csv('./datasets/steps_test.csv')\n",
    "tgn = 2\n",
    "df = df.loc[df['tangram nr' ] ==tgn]\n",
    "df = df[['sid','tangram nr','step']]\n",
    "participants = df.groupby(['sid','tangram nr']).max()['step'].to_numpy()\n",
    "\n",
    "data = participants\n",
    "plt.figure(figsize=(15, 5), dpi=80)\n",
    "ax = plt.subplot(121)\n",
    "ax.set_title(f'Histogram of total number of steps for puzzle {tgn}')\n",
    "# H, bins = np.histogram(data,bins=int(np.max(data)))\n",
    "\n",
    "# ax.bar(bins[:-1],H,width=0.5)\n",
    "ax.hist(data, bins=int(np.max(participants)), alpha=0.6, width=0.2, color='b')\n",
    "ax = plt.subplot(122)\n",
    "mu, std = norm.fit(data)\n",
    "\n",
    "ax.hist(data, bins=int(np.max(participants)), density=True,stacked=True, alpha=0.6, color='b')\n",
    "xmin, xmax = (7,plt.xlim()[1])\n",
    "x = np.linspace(xmin, xmax, 20)\n",
    "p = norm.pdf(x, mu, std)\n",
    "ax.set_title('Fitted gaussian, m= {:.2f}, sd= {:.2f}'.format(mu,std))\n",
    "plt.plot(x, p, 'k', linewidth=2)\n",
    "plt.show()"
   ]
  },
  {
   "cell_type": "code",
   "execution_count": 4,
   "id": "571aec50",
   "metadata": {},
   "outputs": [
    {
     "data": {
      "text/plain": [
       "(10.8, 7.020921117156447)"
      ]
     },
     "execution_count": 4,
     "metadata": {},
     "output_type": "execute_result"
    }
   ],
   "source": [
    "pno=participants[participants< mu + 3*std]\n",
    "norm.fit(pno)"
   ]
  },
  {
   "cell_type": "code",
   "execution_count": 5,
   "id": "e3e37df0",
   "metadata": {},
   "outputs": [
    {
     "name": "stdout",
     "output_type": "stream",
     "text": [
      "participants pre-trim\n",
      "mean: 11.838709677419354, std: 8.948226619022913, max: 43.0\n",
      "participants\n",
      "mean: 10.8, std: 7.020921117156447, max: 36.0\n",
      "13\n"
     ]
    }
   ],
   "source": [
    "df = pd.read_csv('./datasets/steps.csv')\n",
    "df = df.loc[df['tangram nr' ] ==2]\n",
    "df = df[['sid','tangram nr','step']]\n",
    "participants = df.groupby(['sid','tangram nr']).max()['step'].to_numpy()\n",
    "print('participants pre-trim')\n",
    "print(f'mean: {participants.mean()}, std: {participants.std()}, max: {participants.max()}')\n",
    "participants = participants[participants<participants.mean()+3*participants.std()]\n",
    "print('participants')\n",
    "print(f'mean: {participants.mean()}, std: {participants.std()}, max: {participants.max()}')\n",
    "print(np.count_nonzero(participants == 7))"
   ]
  },
  {
   "cell_type": "markdown",
   "id": "5f4d54a5",
   "metadata": {},
   "source": [
    "# General stats\n",
    "Avg number of steps, std..."
   ]
  },
  {
   "cell_type": "code",
   "execution_count": 2,
   "id": "6e4a059c",
   "metadata": {
    "scrolled": true
   },
   "outputs": [],
   "source": [
    "mat = pd.read_csv(\"results/heatmap_2_mixed_cnt.csv\",header=None).to_numpy()"
   ]
  },
  {
   "cell_type": "code",
   "execution_count": 3,
   "id": "5acf1790",
   "metadata": {},
   "outputs": [],
   "source": [
    "solved_at = (mat==0).argmax(axis=1)\n",
    "solved_at[solved_at==0] = mat.shape[1] "
   ]
  },
  {
   "cell_type": "code",
   "execution_count": 4,
   "id": "7697335a",
   "metadata": {},
   "outputs": [
    {
     "name": "stdout",
     "output_type": "stream",
     "text": [
      "mean: 12.5, std: 7.36093291188918, perfect: 12\n"
     ]
    }
   ],
   "source": [
    "print(f'mean: {solved_at.mean()}, std: {solved_at.std()}, perfect: {np.count_nonzero(solved_at == 7)}')"
   ]
  },
  {
   "cell_type": "markdown",
   "id": "cf75a292",
   "metadata": {},
   "source": [
    "# Heatmaps"
   ]
  },
  {
   "cell_type": "code",
   "execution_count": 6,
   "id": "83e9f93e",
   "metadata": {},
   "outputs": [],
   "source": [
    "heatmap = np.zeros((5,10))\n",
    "for i in range(5):\n",
    "    p = i+1\n",
    "    for m in range(10):\n",
    "        heatmap[i,m] = np.count_nonzero(mat[:,m] == p)\n"
   ]
  },
  {
   "cell_type": "code",
   "execution_count": 7,
   "id": "1e7d2514",
   "metadata": {},
   "outputs": [],
   "source": [
    "heatmap = heatmap/heatmap.sum(axis=0,keepdims=1)"
   ]
  },
  {
   "cell_type": "code",
   "execution_count": 8,
   "id": "4531932a",
   "metadata": {},
   "outputs": [],
   "source": [
    "data = np.loadtxt('datasets/heatmap2.txt')"
   ]
  },
  {
   "cell_type": "code",
   "execution_count": 9,
   "id": "c120e1c0",
   "metadata": {},
   "outputs": [
    {
     "name": "stdout",
     "output_type": "stream",
     "text": [
      "[0.33062584 0.22927495 0.26869933 0.16963094 0.24875316 0.30138617\n",
      " 0.33115556 0.15127023 0.25716882 0.17675054]\n"
     ]
    }
   ],
   "source": [
    "rmse =np.sqrt(np.mean((heatmap-data)**2, axis=0))\n",
    "print(rmse)"
   ]
  },
  {
   "cell_type": "code",
   "execution_count": 10,
   "id": "579072b7",
   "metadata": {},
   "outputs": [
    {
     "data": {
      "text/plain": [
       "0.24647155432103593"
      ]
     },
     "execution_count": 10,
     "metadata": {},
     "output_type": "execute_result"
    }
   ],
   "source": [
    "np.mean(rmse)"
   ]
  },
  {
   "cell_type": "code",
   "execution_count": 11,
   "id": "23edcdef",
   "metadata": {},
   "outputs": [
    {
     "data": {
      "image/png": "[encoded data removed]",
      "text/plain": [
       "<Figure size 432x288 with 2 Axes>"
      ]
     },
     "metadata": {
      "needs_background": "light"
     },
     "output_type": "display_data"
    }
   ],
   "source": [
    "cmap = sns.cm.rocket_r\n",
    "y_axis_labels = ['small triangle','square','parall','middle triangle','big triangle']\n",
    "x_axis_labels = [1,2,3,4,5,6,7,8,9,10]\n",
    "fig, ax = plt.subplots()\n",
    "sns.heatmap(heatmap,ax=ax,yticklabels=y_axis_labels,xticklabels=x_axis_labels,cmap=cmap,vmin=0, vmax=1)\n",
    "ax.invert_yaxis()\n",
    "plt.show()\n"
   ]
  },
  {
   "cell_type": "markdown",
   "id": "cae51a90",
   "metadata": {},
   "source": [
    "# Sequence evaluation\n",
    "\n",
    "Tangram 2"
   ]
  },
  {
   "cell_type": "code",
   "execution_count": 12,
   "id": "cc966b9e",
   "metadata": {},
   "outputs": [],
   "source": [
    "tgn = 2\n",
    "users = pd.read_csv('datasets/train_states.csv')\n",
    "users = users.loc[users['tangram nr'] ==tgn]\n",
    "model = pd.read_csv(f'results/model_states_evolution_{tgn}_mixed_cnt.csv')"
   ]
  },
  {
   "cell_type": "markdown",
   "id": "99ee1673",
   "metadata": {},
   "source": [
    "## Method1: step-by-step matching\n",
    "\n",
    "For each run, the model gets its score by comparing the position at each step with user data at step +-1, scoring 1 point if there is any match"
   ]
  },
  {
   "cell_type": "code",
   "execution_count": 13,
   "id": "6e7cf572",
   "metadata": {},
   "outputs": [
    {
     "name": "stdout",
     "output_type": "stream",
     "text": [
      "86\n",
      "227\n",
      "0.3788546255506608\n",
      "0\n"
     ]
    }
   ],
   "source": [
    "limits = {2:int(10.8+6.9),4:int(12.4+6.5)}\n",
    "offset = [1,2,3,3,3]\n",
    "score = 0\n",
    "max_score = 0\n",
    "errors= 0\n",
    "for run in model.run.unique():\n",
    "    run_steps = model.loc[model.run == run]\n",
    "    if len(run_steps) < 17:\n",
    "        errors+=1\n",
    "        continue\n",
    "    for step in range(3,limits.get(tgn)):\n",
    "        \n",
    "        \n",
    "        state = run_steps.iloc[step-1][['small triangle','middle triangle','big triangle','square','parallelogram']]\n",
    "        previous = run_steps.iloc[step-2][['small triangle','middle triangle','big triangle','square','parallelogram']]\n",
    "        last_state = run_steps.iloc[-1][['small triangle','middle triangle','big triangle','square','parallelogram']]\n",
    "        if not (state.equals(last_state) and state.equals(previous)):\n",
    "            max_score +=1\n",
    "            users_at_step = users.loc[users['step'].isin(list(range(step-offset[step//4], step + offset[step//4]+1)))][['small triangle','middle triangle','big triangle','square','parallelogram']]\n",
    "            res= users_at_step.loc[\n",
    "                (users_at_step['small triangle'] == state['small triangle']) &\n",
    "                (users_at_step['middle triangle'] == state['middle triangle']) &\n",
    "                (users_at_step['big triangle'] == state['big triangle']) &\n",
    "                (users_at_step['square'] == state['square']) &\n",
    "                (users_at_step['parallelogram'] == state['parallelogram'])\n",
    "            ]\n",
    "            if not res.empty:\n",
    "                score+=1\n",
    "print(score)\n",
    "print(max_score)\n",
    "print(score/max_score)\n",
    "print(errors)"
   ]
  },
  {
   "cell_type": "code",
   "execution_count": null,
   "id": "40b372aa",
   "metadata": {},
   "outputs": [],
   "source": []
  },
  {
   "cell_type": "code",
   "execution_count": 221,
   "id": "d488344d",
   "metadata": {},
   "outputs": [
    {
     "ename": "IndexError",
     "evalue": "single positional indexer is out-of-bounds",
     "output_type": "error",
     "traceback": [
      "\u001b[1;31m---------------------------------------------------------------------------\u001b[0m",
      "\u001b[1;31mIndexError\u001b[0m                                Traceback (most recent call last)",
      "\u001b[1;32m~\\AppData\\Local\\Temp/ipykernel_18520/137434800.py\u001b[0m in \u001b[0;36m<module>\u001b[1;34m\u001b[0m\n\u001b[0;32m      4\u001b[0m     \u001b[0mrun_steps\u001b[0m \u001b[1;33m=\u001b[0m \u001b[0mmodel\u001b[0m\u001b[1;33m.\u001b[0m\u001b[0mloc\u001b[0m\u001b[1;33m[\u001b[0m\u001b[0mmodel\u001b[0m\u001b[1;33m.\u001b[0m\u001b[0mrun\u001b[0m \u001b[1;33m==\u001b[0m \u001b[0mrun\u001b[0m\u001b[1;33m]\u001b[0m\u001b[1;33m\u001b[0m\u001b[1;33m\u001b[0m\u001b[0m\n\u001b[0;32m      5\u001b[0m     \u001b[1;32mfor\u001b[0m \u001b[0mstep\u001b[0m \u001b[1;32min\u001b[0m \u001b[0mrange\u001b[0m\u001b[1;33m(\u001b[0m\u001b[1;36m3\u001b[0m\u001b[1;33m,\u001b[0m\u001b[1;36m12\u001b[0m\u001b[1;33m)\u001b[0m\u001b[1;33m:\u001b[0m\u001b[1;33m\u001b[0m\u001b[1;33m\u001b[0m\u001b[0m\n\u001b[1;32m----> 6\u001b[1;33m         \u001b[0mstate\u001b[0m \u001b[1;33m=\u001b[0m \u001b[0mrun_steps\u001b[0m\u001b[1;33m.\u001b[0m\u001b[0miloc\u001b[0m\u001b[1;33m[\u001b[0m\u001b[0mstep\u001b[0m\u001b[1;33m]\u001b[0m\u001b[1;33m[\u001b[0m\u001b[1;33m[\u001b[0m\u001b[1;34m'small triangle'\u001b[0m\u001b[1;33m,\u001b[0m\u001b[1;34m'middle triangle'\u001b[0m\u001b[1;33m,\u001b[0m\u001b[1;34m'big triangle'\u001b[0m\u001b[1;33m,\u001b[0m\u001b[1;34m'square'\u001b[0m\u001b[1;33m,\u001b[0m\u001b[1;34m'parallelogram'\u001b[0m\u001b[1;33m]\u001b[0m\u001b[1;33m]\u001b[0m\u001b[1;33m\u001b[0m\u001b[1;33m\u001b[0m\u001b[0m\n\u001b[0m\u001b[0;32m      7\u001b[0m         \u001b[0mprevious\u001b[0m \u001b[1;33m=\u001b[0m \u001b[0mrun_steps\u001b[0m\u001b[1;33m.\u001b[0m\u001b[0miloc\u001b[0m\u001b[1;33m[\u001b[0m\u001b[0mstep\u001b[0m\u001b[1;33m-\u001b[0m\u001b[1;36m1\u001b[0m\u001b[1;33m]\u001b[0m\u001b[1;33m[\u001b[0m\u001b[1;33m[\u001b[0m\u001b[1;34m'small triangle'\u001b[0m\u001b[1;33m,\u001b[0m\u001b[1;34m'middle triangle'\u001b[0m\u001b[1;33m,\u001b[0m\u001b[1;34m'big triangle'\u001b[0m\u001b[1;33m,\u001b[0m\u001b[1;34m'square'\u001b[0m\u001b[1;33m,\u001b[0m\u001b[1;34m'parallelogram'\u001b[0m\u001b[1;33m]\u001b[0m\u001b[1;33m]\u001b[0m\u001b[1;33m\u001b[0m\u001b[1;33m\u001b[0m\u001b[0m\n\u001b[0;32m      8\u001b[0m         \u001b[0mlast_state\u001b[0m \u001b[1;33m=\u001b[0m \u001b[0mrun_steps\u001b[0m\u001b[1;33m.\u001b[0m\u001b[0miloc\u001b[0m\u001b[1;33m[\u001b[0m\u001b[1;33m-\u001b[0m\u001b[1;36m1\u001b[0m\u001b[1;33m]\u001b[0m\u001b[1;33m[\u001b[0m\u001b[1;33m[\u001b[0m\u001b[1;34m'small triangle'\u001b[0m\u001b[1;33m,\u001b[0m\u001b[1;34m'middle triangle'\u001b[0m\u001b[1;33m,\u001b[0m\u001b[1;34m'big triangle'\u001b[0m\u001b[1;33m,\u001b[0m\u001b[1;34m'square'\u001b[0m\u001b[1;33m,\u001b[0m\u001b[1;34m'parallelogram'\u001b[0m\u001b[1;33m]\u001b[0m\u001b[1;33m]\u001b[0m\u001b[1;33m\u001b[0m\u001b[1;33m\u001b[0m\u001b[0m\n",
      "\u001b[1;32m~\\anaconda3\\lib\\site-packages\\pandas\\core\\indexing.py\u001b[0m in \u001b[0;36m__getitem__\u001b[1;34m(self, key)\u001b[0m\n\u001b[0;32m    929\u001b[0m \u001b[1;33m\u001b[0m\u001b[0m\n\u001b[0;32m    930\u001b[0m             \u001b[0mmaybe_callable\u001b[0m \u001b[1;33m=\u001b[0m \u001b[0mcom\u001b[0m\u001b[1;33m.\u001b[0m\u001b[0mapply_if_callable\u001b[0m\u001b[1;33m(\u001b[0m\u001b[0mkey\u001b[0m\u001b[1;33m,\u001b[0m \u001b[0mself\u001b[0m\u001b[1;33m.\u001b[0m\u001b[0mobj\u001b[0m\u001b[1;33m)\u001b[0m\u001b[1;33m\u001b[0m\u001b[1;33m\u001b[0m\u001b[0m\n\u001b[1;32m--> 931\u001b[1;33m             \u001b[1;32mreturn\u001b[0m \u001b[0mself\u001b[0m\u001b[1;33m.\u001b[0m\u001b[0m_getitem_axis\u001b[0m\u001b[1;33m(\u001b[0m\u001b[0mmaybe_callable\u001b[0m\u001b[1;33m,\u001b[0m \u001b[0maxis\u001b[0m\u001b[1;33m=\u001b[0m\u001b[0maxis\u001b[0m\u001b[1;33m)\u001b[0m\u001b[1;33m\u001b[0m\u001b[1;33m\u001b[0m\u001b[0m\n\u001b[0m\u001b[0;32m    932\u001b[0m \u001b[1;33m\u001b[0m\u001b[0m\n\u001b[0;32m    933\u001b[0m     \u001b[1;32mdef\u001b[0m \u001b[0m_is_scalar_access\u001b[0m\u001b[1;33m(\u001b[0m\u001b[0mself\u001b[0m\u001b[1;33m,\u001b[0m \u001b[0mkey\u001b[0m\u001b[1;33m:\u001b[0m \u001b[0mtuple\u001b[0m\u001b[1;33m)\u001b[0m\u001b[1;33m:\u001b[0m\u001b[1;33m\u001b[0m\u001b[1;33m\u001b[0m\u001b[0m\n",
      "\u001b[1;32m~\\anaconda3\\lib\\site-packages\\pandas\\core\\indexing.py\u001b[0m in \u001b[0;36m_getitem_axis\u001b[1;34m(self, key, axis)\u001b[0m\n\u001b[0;32m   1564\u001b[0m \u001b[1;33m\u001b[0m\u001b[0m\n\u001b[0;32m   1565\u001b[0m             \u001b[1;31m# validate the location\u001b[0m\u001b[1;33m\u001b[0m\u001b[1;33m\u001b[0m\u001b[0m\n\u001b[1;32m-> 1566\u001b[1;33m             \u001b[0mself\u001b[0m\u001b[1;33m.\u001b[0m\u001b[0m_validate_integer\u001b[0m\u001b[1;33m(\u001b[0m\u001b[0mkey\u001b[0m\u001b[1;33m,\u001b[0m \u001b[0maxis\u001b[0m\u001b[1;33m)\u001b[0m\u001b[1;33m\u001b[0m\u001b[1;33m\u001b[0m\u001b[0m\n\u001b[0m\u001b[0;32m   1567\u001b[0m \u001b[1;33m\u001b[0m\u001b[0m\n\u001b[0;32m   1568\u001b[0m             \u001b[1;32mreturn\u001b[0m \u001b[0mself\u001b[0m\u001b[1;33m.\u001b[0m\u001b[0mobj\u001b[0m\u001b[1;33m.\u001b[0m\u001b[0m_ixs\u001b[0m\u001b[1;33m(\u001b[0m\u001b[0mkey\u001b[0m\u001b[1;33m,\u001b[0m \u001b[0maxis\u001b[0m\u001b[1;33m=\u001b[0m\u001b[0maxis\u001b[0m\u001b[1;33m)\u001b[0m\u001b[1;33m\u001b[0m\u001b[1;33m\u001b[0m\u001b[0m\n",
      "\u001b[1;32m~\\anaconda3\\lib\\site-packages\\pandas\\core\\indexing.py\u001b[0m in \u001b[0;36m_validate_integer\u001b[1;34m(self, key, axis)\u001b[0m\n\u001b[0;32m   1498\u001b[0m         \u001b[0mlen_axis\u001b[0m \u001b[1;33m=\u001b[0m \u001b[0mlen\u001b[0m\u001b[1;33m(\u001b[0m\u001b[0mself\u001b[0m\u001b[1;33m.\u001b[0m\u001b[0mobj\u001b[0m\u001b[1;33m.\u001b[0m\u001b[0m_get_axis\u001b[0m\u001b[1;33m(\u001b[0m\u001b[0maxis\u001b[0m\u001b[1;33m)\u001b[0m\u001b[1;33m)\u001b[0m\u001b[1;33m\u001b[0m\u001b[1;33m\u001b[0m\u001b[0m\n\u001b[0;32m   1499\u001b[0m         \u001b[1;32mif\u001b[0m \u001b[0mkey\u001b[0m \u001b[1;33m>=\u001b[0m \u001b[0mlen_axis\u001b[0m \u001b[1;32mor\u001b[0m \u001b[0mkey\u001b[0m \u001b[1;33m<\u001b[0m \u001b[1;33m-\u001b[0m\u001b[0mlen_axis\u001b[0m\u001b[1;33m:\u001b[0m\u001b[1;33m\u001b[0m\u001b[1;33m\u001b[0m\u001b[0m\n\u001b[1;32m-> 1500\u001b[1;33m             \u001b[1;32mraise\u001b[0m \u001b[0mIndexError\u001b[0m\u001b[1;33m(\u001b[0m\u001b[1;34m\"single positional indexer is out-of-bounds\"\u001b[0m\u001b[1;33m)\u001b[0m\u001b[1;33m\u001b[0m\u001b[1;33m\u001b[0m\u001b[0m\n\u001b[0m\u001b[0;32m   1501\u001b[0m \u001b[1;33m\u001b[0m\u001b[0m\n\u001b[0;32m   1502\u001b[0m     \u001b[1;31m# -------------------------------------------------------------------\u001b[0m\u001b[1;33m\u001b[0m\u001b[1;33m\u001b[0m\u001b[0m\n",
      "\u001b[1;31mIndexError\u001b[0m: single positional indexer is out-of-bounds"
     ]
    }
   ],
   "source": [
    "score = 0\n",
    "max_score = 0\n",
    "for run in model.run.unique():\n",
    "    run_steps = model.loc[model.run == run]\n",
    "    for step in range(3,12):\n",
    "        state = run_steps.iloc[step][['small triangle','middle triangle','big triangle','square','parallelogram']]\n",
    "        previous = run_steps.iloc[step-1][['small triangle','middle triangle','big triangle','square','parallelogram']]\n",
    "        last_state = run_steps.iloc[-1][['small triangle','middle triangle','big triangle','square','parallelogram']]\n",
    "        if not (state.equals(last_state) and state.equals(previous)):\n",
    "            max_score +=1\n",
    "            users_at_step = users.loc[users['step'].isin([step-1,step,step+1])][['small triangle','middle triangle','big triangle','square','parallelogram']]\n",
    "            res= users_at_step.loc[\n",
    "                (users_at_step['small triangle'] == state['small triangle']) &\n",
    "                (users_at_step['middle triangle'] == state['middle triangle']) &\n",
    "                (users_at_step['big triangle'] == state['big triangle']) &\n",
    "                (users_at_step['square'] == state['square']) &\n",
    "                (users_at_step['parallelogram'] == state['parallelogram'])\n",
    "            ]\n",
    "            if not res.empty:\n",
    "                score+=1\n",
    "print(score)\n",
    "print(max_score)\n",
    "print(score/max_score)"
   ]
  },
  {
   "cell_type": "code",
   "execution_count": null,
   "id": "d28afb9c",
   "metadata": {},
   "outputs": [],
   "source": []
  },
  {
   "cell_type": "code",
   "execution_count": null,
   "id": "2c70f29c",
   "metadata": {},
   "outputs": [],
   "source": []
  },
  {
   "cell_type": "markdown",
   "id": "fb57c6e3",
   "metadata": {},
   "source": [
    "## Method1: rms"
   ]
  },
  {
   "cell_type": "code",
   "execution_count": 166,
   "id": "0e87bb81",
   "metadata": {},
   "outputs": [
    {
     "data": {
      "text/plain": [
       "array([2.29492193, 2.40138849, 2.20605228, 2.18326972, 2.34520788,\n",
       "       2.20605228, 2.30940108, 2.10554823, 1.97484177, 2.25831796,\n",
       "       2.20605228, 2.04939015, 2.01659779])"
      ]
     },
     "execution_count": 166,
     "metadata": {},
     "output_type": "execute_result"
    }
   ],
   "source": [
    "def state_diff(model,user):\n",
    "    diff = 0\n",
    "    for c in ['small triangle','middle triangle','big triangle','square','parallelogram']:\n",
    "        if user[c] != model[c]:\n",
    "            diff +=1\n",
    "    return diff\n",
    "\n",
    "\n",
    "\n",
    "errors = 10*np.ones((len(model.run.unique()),13))\n",
    "for run in model.run.unique():\n",
    "    run_steps = model.loc[model.run == run]\n",
    "    for step in range(3,16):\n",
    "        \n",
    "        state = run_steps.iloc[step-1][['small triangle','middle triangle','big triangle','square','parallelogram']]\n",
    "        previous = run_steps.iloc[step-2][['small triangle','middle triangle','big triangle','square','parallelogram']]\n",
    "        last_state = run_steps.iloc[-1][['small triangle','middle triangle','big triangle','square','parallelogram']]\n",
    "        if not (state.equals(last_state) and state.equals(previous)):\n",
    "            max_score +=1\n",
    "            users_at_step = users.loc[users['step']==step][['small triangle','middle triangle','big triangle','square','parallelogram']]\n",
    "            res = users_at_step.apply(lambda x: state_diff(state,x),axis=1)\n",
    "            rmse = np.sqrt(np.mean((res)**2))\n",
    "            errors[run,step-3] = rmse\n",
    "#             res= users_at_step.loc[\n",
    "#                 (users_at_step['small triangle'] == state['small triangle']) &\n",
    "#                 (users_at_step['middle triangle'] == state['middle triangle']) &\n",
    "#                 (users_at_step['big triangle'] == state['big triangle']) &\n",
    "#                 (users_at_step['square'] == state['square']) &\n",
    "#                 (users_at_step['parallelogram'] == state['parallelogram'])\n",
    "#             ]\n",
    "\n",
    "\n",
    "errors.min(axis=0)"
   ]
  },
  {
   "cell_type": "code",
   "execution_count": null,
   "id": "97da3802",
   "metadata": {},
   "outputs": [],
   "source": []
  },
  {
   "cell_type": "code",
   "execution_count": 160,
   "id": "90903697",
   "metadata": {},
   "outputs": [
    {
     "name": "stdout",
     "output_type": "stream",
     "text": [
      "305\n",
      "305\n",
      "1.0\n"
     ]
    },
    {
     "data": {
      "text/plain": [
       "array([[ 0.,  1.,  0.,  1.,  0.,  0., 10., 10., 10., 10., 10., 10., 10.],\n",
       "       [ 1.,  1.,  1.,  2.,  2.,  2.,  1.,  2.,  1.,  0.,  0., 10., 10.],\n",
       "       [ 1.,  1.,  1.,  0.,  1.,  1.,  1.,  2.,  2.,  0.,  1.,  1.,  1.],\n",
       "       [ 1.,  1.,  1.,  0.,  1.,  1.,  2.,  1.,  1.,  0.,  1.,  1.,  1.],\n",
       "       [ 1.,  1.,  0.,  1.,  1.,  0.,  1.,  1.,  1.,  1.,  0.,  0., 10.],\n",
       "       [ 1.,  2.,  0.,  1.,  0.,  0., 10., 10., 10., 10., 10., 10., 10.],\n",
       "       [ 0.,  0.,  1.,  0.,  1.,  1.,  0.,  0.,  1.,  1.,  1.,  1.,  1.],\n",
       "       [ 1.,  1.,  1.,  0.,  1.,  1.,  0.,  1.,  1.,  1.,  2.,  2.,  1.],\n",
       "       [ 1.,  2.,  2.,  1.,  2.,  1.,  1.,  1.,  1.,  1.,  1.,  0.,  0.],\n",
       "       [ 1.,  1.,  1.,  2.,  2.,  1.,  2.,  2.,  2.,  1.,  0., 10., 10.],\n",
       "       [ 2.,  2.,  1.,  2.,  1.,  1.,  1.,  1.,  1.,  0., 10., 10., 10.],\n",
       "       [ 1.,  0.,  1.,  2.,  0.,  0.,  1.,  1.,  1.,  0.,  1.,  1.,  1.],\n",
       "       [ 1.,  1.,  1.,  1.,  0.,  1.,  1.,  0.,  1.,  1.,  1.,  1.,  0.],\n",
       "       [ 1.,  1.,  1.,  0.,  1.,  1.,  2.,  0.,  1.,  0.,  0., 10., 10.],\n",
       "       [ 1.,  1.,  1.,  0.,  1.,  1.,  2.,  1.,  1.,  0.,  0., 10., 10.],\n",
       "       [ 1.,  2.,  1.,  0.,  1.,  1.,  1.,  2.,  2.,  2.,  1.,  1.,  1.],\n",
       "       [ 1.,  2.,  2.,  3.,  2.,  1.,  0.,  1.,  1.,  1.,  1.,  0.,  0.],\n",
       "       [ 1.,  1.,  0.,  1.,  0.,  0., 10., 10., 10., 10., 10., 10., 10.],\n",
       "       [ 1.,  1.,  1.,  1.,  1.,  2.,  1.,  1.,  1.,  0.,  0., 10., 10.],\n",
       "       [ 0.,  0.,  0.,  1.,  1.,  1.,  1.,  1.,  1.,  1.,  0.,  0.,  0.],\n",
       "       [ 1.,  1.,  2.,  1.,  0.,  1.,  1.,  1.,  1.,  0.,  0., 10., 10.],\n",
       "       [ 2.,  2.,  3.,  1.,  0.,  0.,  0., 10., 10., 10., 10., 10., 10.],\n",
       "       [ 0.,  0.,  0.,  1.,  0.,  0., 10., 10., 10., 10., 10., 10., 10.],\n",
       "       [ 1.,  1.,  1.,  1.,  0.,  0., 10., 10., 10., 10., 10., 10., 10.],\n",
       "       [ 1.,  1.,  1.,  0.,  1.,  1.,  2.,  2.,  1.,  1.,  0.,  0., 10.],\n",
       "       [ 0.,  0.,  0.,  1.,  1.,  1.,  0.,  0.,  0., 10., 10., 10., 10.],\n",
       "       [ 2.,  2.,  2.,  1.,  1.,  0.,  0., 10., 10., 10., 10., 10., 10.],\n",
       "       [ 1.,  1.,  0.,  0.,  0., 10., 10., 10., 10., 10., 10., 10., 10.],\n",
       "       [ 1.,  1.,  1.,  1.,  0.,  0., 10., 10., 10., 10., 10., 10., 10.],\n",
       "       [ 0.,  1.,  1.,  0.,  1.,  1.,  2.,  1.,  1.,  0.,  0., 10., 10.]])"
      ]
     },
     "execution_count": 160,
     "metadata": {},
     "output_type": "execute_result"
    }
   ],
   "source": [
    "def state_diff(model,user):\n",
    "    diff = 0\n",
    "    for c in ['small triangle','middle triangle','big triangle','square','parallelogram']:\n",
    "        if user[c] != model[c]:\n",
    "            diff +=1\n",
    "    return diff\n",
    "\n",
    "\n",
    "score = 0\n",
    "max_score = 0\n",
    "errors = 10*np.ones((len(model.run.unique()),13))\n",
    "for run in model.run.unique():\n",
    "    run_steps = model.loc[model.run == run]\n",
    "    for step in range(3,16):\n",
    "        \n",
    "        state = run_steps.iloc[step-1][['small triangle','middle triangle','big triangle','square','parallelogram']]\n",
    "        previous = run_steps.iloc[step-2][['small triangle','middle triangle','big triangle','square','parallelogram']]\n",
    "        last_state = run_steps.iloc[-1][['small triangle','middle triangle','big triangle','square','parallelogram']]\n",
    "        if not (state.equals(last_state) and state.equals(previous)):\n",
    "            max_score +=1\n",
    "            users_at_step = users.loc[users['step']==step][['small triangle','middle triangle','big triangle','square','parallelogram']]\n",
    "            res = users_at_step.apply(lambda x: state_diff(state,x),axis=1)\n",
    "            errors[run,step-3] = min(res)\n",
    "            if not res.empty:\n",
    "                score+=1\n",
    "print(score)\n",
    "print(max_score)\n",
    " \n",
    "print(score/max_score)\n",
    "\n",
    "errors"
   ]
  },
  {
   "cell_type": "code",
   "execution_count": 74,
   "id": "edda7978",
   "metadata": {},
   "outputs": [],
   "source": [
    "step=3\n",
    "users_at_step = users.loc[users['step']==step][['small triangle','middle triangle','big triangle','square','parallelogram']]\n",
    "run_steps=  model.loc[model.run == 1]\n",
    "state = run_steps.iloc[step-1][['small triangle','middle triangle','big triangle','square','parallelogram']]"
   ]
  },
  {
   "cell_type": "markdown",
   "id": "fd935a09",
   "metadata": {},
   "source": [
    "\n",
    "\n",
    "## Method2: phase-by-phase matching\n",
    "\n",
    "For each run, the results is matched at step 4, 8 and 12, getting incremental points if such sequence also appears in participants data, some margin or error is accepted"
   ]
  },
  {
   "cell_type": "code",
   "execution_count": 72,
   "id": "8e18df76",
   "metadata": {},
   "outputs": [
    {
     "name": "stdout",
     "output_type": "stream",
     "text": [
      "16\n",
      "2\n"
     ]
    }
   ],
   "source": [
    "score=0\n",
    "same_seq= 0\n",
    "for run in model.run.unique():\n",
    "\n",
    "    run_steps = model.loc[model.run == run]\n",
    "    \n",
    "    #step 4\n",
    "    step=4\n",
    "    model_at_step = run_steps.iloc[step-1][['small triangle','middle triangle','big triangle','square','parallelogram']]\n",
    "    users_at_step = users.loc[users['step'].isin(range(step-1,step+2))]\n",
    "    res= users_at_step.loc[\n",
    "                (users_at_step['small triangle'] == model_at_step['small triangle']) &\n",
    "                (users_at_step['middle triangle'] == model_at_step['middle triangle']) &\n",
    "                (users_at_step['big triangle'] == model_at_step['big triangle']) &\n",
    "                (users_at_step['square'] == model_at_step['square']) &\n",
    "                (users_at_step['parallelogram'] == model_at_step['parallelogram'])\n",
    "            ]\n",
    "    if res.empty:\n",
    "        \n",
    "        continue\n",
    "    \n",
    "    score +=1\n",
    "    filtered=  users.loc[users['sid'].isin(res.sid.unique())]\n",
    "    \n",
    "    #step 8\n",
    "    step = 8\n",
    "    model_at_step = run_steps.iloc[step-1][['small triangle','middle triangle','big triangle','square','parallelogram']]\n",
    "    users_at_step = users.loc[users['step'].isin(range(step-2,step+3))]\n",
    "    res= users_at_step.loc[\n",
    "                (users_at_step['small triangle'] == model_at_step['small triangle']) &\n",
    "                (users_at_step['middle triangle'] == model_at_step['middle triangle']) &\n",
    "                (users_at_step['big triangle'] == model_at_step['big triangle']) &\n",
    "                (users_at_step['square'] == model_at_step['square']) &\n",
    "                (users_at_step['parallelogram'] == model_at_step['parallelogram'])\n",
    "            ]\n",
    "    if res.empty:\n",
    "        \n",
    "        continue\n",
    "    \n",
    "    score +=2\n",
    "    filtered=  users.loc[users['sid'].isin(res.sid.unique())]\n",
    "    \n",
    "#     step 8\n",
    "    step = 12\n",
    "    model_at_step = run_steps.iloc[step-1][['small triangle','middle triangle','big triangle','square','parallelogram']]\n",
    "    users_at_step = users.loc[users['step'].isin(range(step-3,step+4))]\n",
    "    res= users_at_step.loc[\n",
    "                (users_at_step['small triangle'] == model_at_step['small triangle']) &\n",
    "                (users_at_step['middle triangle'] == model_at_step['middle triangle']) &\n",
    "                (users_at_step['big triangle'] == model_at_step['big triangle']) &\n",
    "                (users_at_step['square'] == model_at_step['square']) &\n",
    "                (users_at_step['parallelogram'] == model_at_step['parallelogram'])\n",
    "            ]\n",
    "    if res.empty:\n",
    "        \n",
    "        continue\n",
    "    \n",
    "    score +=3\n",
    "    same_seq +=1\n",
    "    filtered=  users.loc[users['sid'].isin(res.sid.unique())]\n",
    "\n",
    "print(score)\n",
    "print(same_seq)"
   ]
  },
  {
   "cell_type": "code",
   "execution_count": null,
   "id": "36cc67be",
   "metadata": {},
   "outputs": [],
   "source": []
  }
 ],
 "metadata": {
  "kernelspec": {
   "display_name": "Python 3 (ipykernel)",
   "language": "python",
   "name": "python3"
  },
  "language_info": {
   "codemirror_mode": {
    "name": "ipython",
    "version": 3
   },
   "file_extension": ".py",
   "mimetype": "text/x-python",
   "name": "python",
   "nbconvert_exporter": "python",
   "pygments_lexer": "ipython3",
   "version": "3.10.2"
  }
 },
 "nbformat": 4,
 "nbformat_minor": 5
}
