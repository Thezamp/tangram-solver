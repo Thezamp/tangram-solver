{
 "cells": [
  {
   "cell_type": "code",
   "execution_count": 1,
   "id": "cd081665",
   "metadata": {},
   "outputs": [],
   "source": [
    "import pandas as pd\n",
    "import numpy as np\n",
    "import seaborn as sns\n",
    "import matplotlib.pyplot as plt "
   ]
  },
  {
   "cell_type": "markdown",
   "id": "5f4d54a5",
   "metadata": {},
   "source": [
    "# General stats\n",
    "Avg number of steps, std..."
   ]
  },
  {
   "cell_type": "code",
   "execution_count": 130,
   "id": "6e4a059c",
   "metadata": {
    "scrolled": true
   },
   "outputs": [],
   "source": [
    "mat = pd.read_csv(\"datasets/heatmap_4_large.csv\",header=None).to_numpy()"
   ]
  },
  {
   "cell_type": "code",
   "execution_count": 131,
   "id": "5acf1790",
   "metadata": {},
   "outputs": [],
   "source": [
    "solved_at = (mat==0).argmax(axis=1)\n",
    "solved_at[solved_at==0] = mat.shape[1]"
   ]
  },
  {
   "cell_type": "code",
   "execution_count": 132,
   "id": "7697335a",
   "metadata": {},
   "outputs": [
    {
     "name": "stdout",
     "output_type": "stream",
     "text": [
      "mean: 16.166666666666668, std: 6.424346054052678, max: 26\n"
     ]
    }
   ],
   "source": [
    "print(f'mean: {solved_at.mean()}, std: {solved_at.std()}, max: {solved_at.max()}')"
   ]
  },
  {
   "cell_type": "code",
   "execution_count": 133,
   "id": "e3e37df0",
   "metadata": {},
   "outputs": [
    {
     "name": "stdout",
     "output_type": "stream",
     "text": [
      "[13.  7.  8. 11.  2.  6. 22.  9. 12.  3. 24. 10. 16. 19.  1. 17.  4. 14.\n",
      " 18.  5.]\n"
     ]
    },
    {
     "data": {
      "text/plain": [
       "array([12,  7,  9,  7,  9,  7,  8,  7,  7, 12, 10,  7, 15, 18, 10, 11,  8,\n",
       "       11,  7,  9,  7,  7,  7,  8,  7,  7,  8], dtype=int64)"
      ]
     },
     "execution_count": 133,
     "metadata": {},
     "output_type": "execute_result"
    }
   ],
   "source": [
    "df = pd.read_csv('./datasets/steps.csv')\n",
    "df = df.loc[df['tangram nr' ] ==2]\n",
    "\n",
    "print(df['grid_val'].unique())\n",
    "df = df[['sid','tangram nr','step']]\n",
    "participants = df.groupby(['sid','tangram nr']).max()['step'].to_numpy()\n",
    "participants = participants[participants<participants.mean()+participants.std()]\n",
    "participants"
   ]
  },
  {
   "cell_type": "code",
   "execution_count": 134,
   "id": "2bcdf045",
   "metadata": {},
   "outputs": [
    {
     "name": "stdout",
     "output_type": "stream",
     "text": [
      "mean: 8.962962962962964, std: 2.70091180051919, max: 18\n"
     ]
    }
   ],
   "source": [
    "print(f'mean: {participants.mean()}, std: {participants.std()}, max: {participants.max()}')"
   ]
  },
  {
   "cell_type": "markdown",
   "id": "cf75a292",
   "metadata": {},
   "source": [
    "# Heatmaps"
   ]
  },
  {
   "cell_type": "code",
   "execution_count": 135,
   "id": "83e9f93e",
   "metadata": {},
   "outputs": [],
   "source": [
    "heatmap = np.zeros((5,10))\n",
    "for i in range(5):\n",
    "    p = i+1\n",
    "    for m in range(10):\n",
    "        heatmap[i,m] = np.count_nonzero(mat[:,m] == p)\n"
   ]
  },
  {
   "cell_type": "code",
   "execution_count": 136,
   "id": "1e7d2514",
   "metadata": {},
   "outputs": [],
   "source": [
    "heatmap = heatmap/heatmap.sum(axis=0,keepdims=1)"
   ]
  },
  {
   "cell_type": "code",
   "execution_count": 137,
   "id": "4531932a",
   "metadata": {},
   "outputs": [],
   "source": [
    "data = np.loadtxt('datasets/heatmap4.txt')"
   ]
  },
  {
   "cell_type": "code",
   "execution_count": 138,
   "id": "c120e1c0",
   "metadata": {},
   "outputs": [
    {
     "name": "stdout",
     "output_type": "stream",
     "text": [
      "[0.22929109 0.1829664  0.11979672 0.18474983 0.24818267 0.29902296\n",
      " 0.37313842 0.29284808 0.28311953 0.37203835]\n"
     ]
    }
   ],
   "source": [
    "rmse =np.sqrt(np.mean((heatmap-data)**2, axis=0))\n",
    "print(rmse)"
   ]
  },
  {
   "cell_type": "code",
   "execution_count": 139,
   "id": "579072b7",
   "metadata": {},
   "outputs": [
    {
     "data": {
      "text/plain": [
       "0.25851540433307185"
      ]
     },
     "execution_count": 139,
     "metadata": {},
     "output_type": "execute_result"
    }
   ],
   "source": [
    "np.mean(rmse)"
   ]
  },
  {
   "cell_type": "code",
   "execution_count": 140,
   "id": "23edcdef",
   "metadata": {},
   "outputs": [
    {
     "data": {
      "image/png": "[encoded data removed]",
      "text/plain": [
       "<Figure size 432x288 with 2 Axes>"
      ]
     },
     "metadata": {
      "needs_background": "light"
     },
     "output_type": "display_data"
    }
   ],
   "source": [
    "cmap = sns.cm.rocket_r\n",
    "y_axis_labels = ['small triangle','square','parall','middle triangle','big triangle']\n",
    "x_axis_labels = [1,2,3,4,5,6,7,8,9,10]\n",
    "fig, ax = plt.subplots()\n",
    "sns.heatmap(heatmap,ax=ax,yticklabels=y_axis_labels,xticklabels=x_axis_labels,cmap=cmap,vmin=0, vmax=1)\n",
    "ax.invert_yaxis()\n",
    "plt.show()\n"
   ]
  },
  {
   "cell_type": "markdown",
   "id": "cae51a90",
   "metadata": {},
   "source": [
    "# Sequence evaluation\n",
    "\n",
    "Tangram 2"
   ]
  },
  {
   "cell_type": "code",
   "execution_count": 143,
   "id": "cc966b9e",
   "metadata": {},
   "outputs": [],
   "source": [
    "users = pd.read_csv('datasets/train_states.csv')\n",
    "users = users.loc[users['tangram nr'] ==4]\n",
    "model = pd.read_csv('datasets/model_states_evolution_4_large.csv')"
   ]
  },
  {
   "cell_type": "markdown",
   "id": "99ee1673",
   "metadata": {},
   "source": [
    "## Method1: step-by-step matching\n",
    "\n",
    "For each run, the model gets its score by comparing the position at each step with user data at step +-1, scoring 1 point if there is any match"
   ]
  },
  {
   "cell_type": "code",
   "execution_count": 144,
   "id": "d488344d",
   "metadata": {},
   "outputs": [
    {
     "name": "stdout",
     "output_type": "stream",
     "text": [
      "104\n",
      "232\n",
      "0.4482758620689655\n"
     ]
    }
   ],
   "source": [
    "score = 0\n",
    "max_score = 0\n",
    "for run in model.run.unique():\n",
    "    run_steps = model.loc[model.run == run]\n",
    "    for step in range(3,12):\n",
    "        \n",
    "        state = run_steps.iloc[step][['small triangle','middle triangle','big triangle','square','parallelogram']]\n",
    "        previous = run_steps.iloc[step-1][['small triangle','middle triangle','big triangle','square','parallelogram']]\n",
    "        last_state = run_steps.iloc[-1][['small triangle','middle triangle','big triangle','square','parallelogram']]\n",
    "        if not (state.equals(last_state) and state.equals(previous)):\n",
    "            max_score +=1\n",
    "            users_at_step = users.loc[users['step'].isin([step-1,step,step+1])][['small triangle','middle triangle','big triangle','square','parallelogram']]\n",
    "            res= users_at_step.loc[\n",
    "                (users_at_step['small triangle'] == state['small triangle']) &\n",
    "                (users_at_step['middle triangle'] == state['middle triangle']) &\n",
    "                (users_at_step['big triangle'] == state['big triangle']) &\n",
    "                (users_at_step['square'] == state['square']) &\n",
    "                (users_at_step['parallelogram'] == state['parallelogram'])\n",
    "            ]\n",
    "            if not res.empty:\n",
    "                score+=1\n",
    "print(score)\n",
    "print(max_score)\n",
    "print(score/max_score)"
   ]
  },
  {
   "cell_type": "code",
   "execution_count": null,
   "id": "d28afb9c",
   "metadata": {},
   "outputs": [],
   "source": []
  },
  {
   "cell_type": "code",
   "execution_count": null,
   "id": "2c70f29c",
   "metadata": {},
   "outputs": [],
   "source": []
  },
  {
   "cell_type": "markdown",
   "id": "fb57c6e3",
   "metadata": {},
   "source": [
    "## Method1: rms"
   ]
  },
  {
   "cell_type": "code",
   "execution_count": 166,
   "id": "0e87bb81",
   "metadata": {},
   "outputs": [
    {
     "data": {
      "text/plain": [
       "array([2.29492193, 2.40138849, 2.20605228, 2.18326972, 2.34520788,\n",
       "       2.20605228, 2.30940108, 2.10554823, 1.97484177, 2.25831796,\n",
       "       2.20605228, 2.04939015, 2.01659779])"
      ]
     },
     "execution_count": 166,
     "metadata": {},
     "output_type": "execute_result"
    }
   ],
   "source": [
    "def state_diff(model,user):\n",
    "    diff = 0\n",
    "    for c in ['small triangle','middle triangle','big triangle','square','parallelogram']:\n",
    "        if user[c] != model[c]:\n",
    "            diff +=1\n",
    "    return diff\n",
    "\n",
    "\n",
    "\n",
    "errors = 10*np.ones((len(model.run.unique()),13))\n",
    "for run in model.run.unique():\n",
    "    run_steps = model.loc[model.run == run]\n",
    "    for step in range(3,16):\n",
    "        \n",
    "        state = run_steps.iloc[step-1][['small triangle','middle triangle','big triangle','square','parallelogram']]\n",
    "        previous = run_steps.iloc[step-2][['small triangle','middle triangle','big triangle','square','parallelogram']]\n",
    "        last_state = run_steps.iloc[-1][['small triangle','middle triangle','big triangle','square','parallelogram']]\n",
    "        if not (state.equals(last_state) and state.equals(previous)):\n",
    "            max_score +=1\n",
    "            users_at_step = users.loc[users['step']==step][['small triangle','middle triangle','big triangle','square','parallelogram']]\n",
    "            res = users_at_step.apply(lambda x: state_diff(state,x),axis=1)\n",
    "            rmse = np.sqrt(np.mean((res)**2))\n",
    "            errors[run,step-3] = rmse\n",
    "#             res= users_at_step.loc[\n",
    "#                 (users_at_step['small triangle'] == state['small triangle']) &\n",
    "#                 (users_at_step['middle triangle'] == state['middle triangle']) &\n",
    "#                 (users_at_step['big triangle'] == state['big triangle']) &\n",
    "#                 (users_at_step['square'] == state['square']) &\n",
    "#                 (users_at_step['parallelogram'] == state['parallelogram'])\n",
    "#             ]\n",
    "\n",
    "\n",
    "errors.min(axis=0)"
   ]
  },
  {
   "cell_type": "code",
   "execution_count": null,
   "id": "97da3802",
   "metadata": {},
   "outputs": [],
   "source": []
  },
  {
   "cell_type": "code",
   "execution_count": 160,
   "id": "90903697",
   "metadata": {},
   "outputs": [
    {
     "name": "stdout",
     "output_type": "stream",
     "text": [
      "305\n",
      "305\n",
      "1.0\n"
     ]
    },
    {
     "data": {
      "text/plain": [
       "array([[ 0.,  1.,  0.,  1.,  0.,  0., 10., 10., 10., 10., 10., 10., 10.],\n",
       "       [ 1.,  1.,  1.,  2.,  2.,  2.,  1.,  2.,  1.,  0.,  0., 10., 10.],\n",
       "       [ 1.,  1.,  1.,  0.,  1.,  1.,  1.,  2.,  2.,  0.,  1.,  1.,  1.],\n",
       "       [ 1.,  1.,  1.,  0.,  1.,  1.,  2.,  1.,  1.,  0.,  1.,  1.,  1.],\n",
       "       [ 1.,  1.,  0.,  1.,  1.,  0.,  1.,  1.,  1.,  1.,  0.,  0., 10.],\n",
       "       [ 1.,  2.,  0.,  1.,  0.,  0., 10., 10., 10., 10., 10., 10., 10.],\n",
       "       [ 0.,  0.,  1.,  0.,  1.,  1.,  0.,  0.,  1.,  1.,  1.,  1.,  1.],\n",
       "       [ 1.,  1.,  1.,  0.,  1.,  1.,  0.,  1.,  1.,  1.,  2.,  2.,  1.],\n",
       "       [ 1.,  2.,  2.,  1.,  2.,  1.,  1.,  1.,  1.,  1.,  1.,  0.,  0.],\n",
       "       [ 1.,  1.,  1.,  2.,  2.,  1.,  2.,  2.,  2.,  1.,  0., 10., 10.],\n",
       "       [ 2.,  2.,  1.,  2.,  1.,  1.,  1.,  1.,  1.,  0., 10., 10., 10.],\n",
       "       [ 1.,  0.,  1.,  2.,  0.,  0.,  1.,  1.,  1.,  0.,  1.,  1.,  1.],\n",
       "       [ 1.,  1.,  1.,  1.,  0.,  1.,  1.,  0.,  1.,  1.,  1.,  1.,  0.],\n",
       "       [ 1.,  1.,  1.,  0.,  1.,  1.,  2.,  0.,  1.,  0.,  0., 10., 10.],\n",
       "       [ 1.,  1.,  1.,  0.,  1.,  1.,  2.,  1.,  1.,  0.,  0., 10., 10.],\n",
       "       [ 1.,  2.,  1.,  0.,  1.,  1.,  1.,  2.,  2.,  2.,  1.,  1.,  1.],\n",
       "       [ 1.,  2.,  2.,  3.,  2.,  1.,  0.,  1.,  1.,  1.,  1.,  0.,  0.],\n",
       "       [ 1.,  1.,  0.,  1.,  0.,  0., 10., 10., 10., 10., 10., 10., 10.],\n",
       "       [ 1.,  1.,  1.,  1.,  1.,  2.,  1.,  1.,  1.,  0.,  0., 10., 10.],\n",
       "       [ 0.,  0.,  0.,  1.,  1.,  1.,  1.,  1.,  1.,  1.,  0.,  0.,  0.],\n",
       "       [ 1.,  1.,  2.,  1.,  0.,  1.,  1.,  1.,  1.,  0.,  0., 10., 10.],\n",
       "       [ 2.,  2.,  3.,  1.,  0.,  0.,  0., 10., 10., 10., 10., 10., 10.],\n",
       "       [ 0.,  0.,  0.,  1.,  0.,  0., 10., 10., 10., 10., 10., 10., 10.],\n",
       "       [ 1.,  1.,  1.,  1.,  0.,  0., 10., 10., 10., 10., 10., 10., 10.],\n",
       "       [ 1.,  1.,  1.,  0.,  1.,  1.,  2.,  2.,  1.,  1.,  0.,  0., 10.],\n",
       "       [ 0.,  0.,  0.,  1.,  1.,  1.,  0.,  0.,  0., 10., 10., 10., 10.],\n",
       "       [ 2.,  2.,  2.,  1.,  1.,  0.,  0., 10., 10., 10., 10., 10., 10.],\n",
       "       [ 1.,  1.,  0.,  0.,  0., 10., 10., 10., 10., 10., 10., 10., 10.],\n",
       "       [ 1.,  1.,  1.,  1.,  0.,  0., 10., 10., 10., 10., 10., 10., 10.],\n",
       "       [ 0.,  1.,  1.,  0.,  1.,  1.,  2.,  1.,  1.,  0.,  0., 10., 10.]])"
      ]
     },
     "execution_count": 160,
     "metadata": {},
     "output_type": "execute_result"
    }
   ],
   "source": [
    "def state_diff(model,user):\n",
    "    diff = 0\n",
    "    for c in ['small triangle','middle triangle','big triangle','square','parallelogram']:\n",
    "        if user[c] != model[c]:\n",
    "            diff +=1\n",
    "    return diff\n",
    "\n",
    "\n",
    "score = 0\n",
    "max_score = 0\n",
    "errors = 10*np.ones((len(model.run.unique()),13))\n",
    "for run in model.run.unique():\n",
    "    run_steps = model.loc[model.run == run]\n",
    "    for step in range(3,16):\n",
    "        \n",
    "        state = run_steps.iloc[step-1][['small triangle','middle triangle','big triangle','square','parallelogram']]\n",
    "        previous = run_steps.iloc[step-2][['small triangle','middle triangle','big triangle','square','parallelogram']]\n",
    "        last_state = run_steps.iloc[-1][['small triangle','middle triangle','big triangle','square','parallelogram']]\n",
    "        if not (state.equals(last_state) and state.equals(previous)):\n",
    "            max_score +=1\n",
    "            users_at_step = users.loc[users['step']==step][['small triangle','middle triangle','big triangle','square','parallelogram']]\n",
    "            res = users_at_step.apply(lambda x: state_diff(state,x),axis=1)\n",
    "            errors[run,step-3] = min(res)\n",
    "            if not res.empty:\n",
    "                score+=1\n",
    "print(score)\n",
    "print(max_score)\n",
    " \n",
    "print(score/max_score)\n",
    "\n",
    "errors"
   ]
  },
  {
   "cell_type": "code",
   "execution_count": 74,
   "id": "edda7978",
   "metadata": {},
   "outputs": [],
   "source": [
    "step=3\n",
    "users_at_step = users.loc[users['step']==step][['small triangle','middle triangle','big triangle','square','parallelogram']]\n",
    "run_steps=  model.loc[model.run == 1]\n",
    "state = run_steps.iloc[step-1][['small triangle','middle triangle','big triangle','square','parallelogram']]"
   ]
  },
  {
   "cell_type": "markdown",
   "id": "fd935a09",
   "metadata": {},
   "source": [
    "\n",
    "\n",
    "## Method2: phase-by-phase matching\n",
    "\n",
    "For each run, the results is matched at step 4, 8 and 12, getting incremental points if such sequence also appears in participants data, some margin or error is accepted"
   ]
  },
  {
   "cell_type": "code",
   "execution_count": 72,
   "id": "8e18df76",
   "metadata": {},
   "outputs": [
    {
     "name": "stdout",
     "output_type": "stream",
     "text": [
      "16\n",
      "2\n"
     ]
    }
   ],
   "source": [
    "score=0\n",
    "same_seq= 0\n",
    "for run in model.run.unique():\n",
    "\n",
    "    run_steps = model.loc[model.run == run]\n",
    "    \n",
    "    #step 4\n",
    "    step=4\n",
    "    model_at_step = run_steps.iloc[step-1][['small triangle','middle triangle','big triangle','square','parallelogram']]\n",
    "    users_at_step = users.loc[users['step'].isin(range(step-1,step+2))]\n",
    "    res= users_at_step.loc[\n",
    "                (users_at_step['small triangle'] == model_at_step['small triangle']) &\n",
    "                (users_at_step['middle triangle'] == model_at_step['middle triangle']) &\n",
    "                (users_at_step['big triangle'] == model_at_step['big triangle']) &\n",
    "                (users_at_step['square'] == model_at_step['square']) &\n",
    "                (users_at_step['parallelogram'] == model_at_step['parallelogram'])\n",
    "            ]\n",
    "    if res.empty:\n",
    "        \n",
    "        continue\n",
    "    \n",
    "    score +=1\n",
    "    filtered=  users.loc[users['sid'].isin(res.sid.unique())]\n",
    "    \n",
    "    #step 8\n",
    "    step = 8\n",
    "    model_at_step = run_steps.iloc[step-1][['small triangle','middle triangle','big triangle','square','parallelogram']]\n",
    "    users_at_step = users.loc[users['step'].isin(range(step-2,step+3))]\n",
    "    res= users_at_step.loc[\n",
    "                (users_at_step['small triangle'] == model_at_step['small triangle']) &\n",
    "                (users_at_step['middle triangle'] == model_at_step['middle triangle']) &\n",
    "                (users_at_step['big triangle'] == model_at_step['big triangle']) &\n",
    "                (users_at_step['square'] == model_at_step['square']) &\n",
    "                (users_at_step['parallelogram'] == model_at_step['parallelogram'])\n",
    "            ]\n",
    "    if res.empty:\n",
    "        \n",
    "        continue\n",
    "    \n",
    "    score +=2\n",
    "    filtered=  users.loc[users['sid'].isin(res.sid.unique())]\n",
    "    \n",
    "#     step 8\n",
    "    step = 12\n",
    "    model_at_step = run_steps.iloc[step-1][['small triangle','middle triangle','big triangle','square','parallelogram']]\n",
    "    users_at_step = users.loc[users['step'].isin(range(step-3,step+4))]\n",
    "    res= users_at_step.loc[\n",
    "                (users_at_step['small triangle'] == model_at_step['small triangle']) &\n",
    "                (users_at_step['middle triangle'] == model_at_step['middle triangle']) &\n",
    "                (users_at_step['big triangle'] == model_at_step['big triangle']) &\n",
    "                (users_at_step['square'] == model_at_step['square']) &\n",
    "                (users_at_step['parallelogram'] == model_at_step['parallelogram'])\n",
    "            ]\n",
    "    if res.empty:\n",
    "        \n",
    "        continue\n",
    "    \n",
    "    score +=3\n",
    "    same_seq +=1\n",
    "    filtered=  users.loc[users['sid'].isin(res.sid.unique())]\n",
    "\n",
    "print(score)\n",
    "print(same_seq)"
   ]
  },
  {
   "cell_type": "code",
   "execution_count": null,
   "id": "36cc67be",
   "metadata": {},
   "outputs": [],
   "source": []
  }
 ],
 "metadata": {
  "kernelspec": {
   "display_name": "Python 3 (ipykernel)",
   "language": "python",
   "name": "python3"
  },
  "language_info": {
   "codemirror_mode": {
    "name": "ipython",
    "version": 3
   },
   "file_extension": ".py",
   "mimetype": "text/x-python",
   "name": "python",
   "nbconvert_exporter": "python",
   "pygments_lexer": "ipython3",
   "version": "3.9.7"
  }
 },
 "nbformat": 4,
 "nbformat_minor": 5
}
