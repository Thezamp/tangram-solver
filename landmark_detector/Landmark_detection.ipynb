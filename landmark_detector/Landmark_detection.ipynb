{
 "cells": [
  {
   "cell_type": "code",
   "execution_count": 1,
   "id": "679657e7",
   "metadata": {},
   "outputs": [],
   "source": [
    "import numpy as np\n",
    "import cv2 as cv\n",
    "from matplotlib import pyplot as plt\n",
    "from scipy import ndimage\n",
    "import pylab as pl\n",
    "from matplotlib import collections  as mc\n",
    "import time\n"
   ]
  },
  {
   "cell_type": "code",
   "execution_count": 8,
   "id": "4f16dc39",
   "metadata": {},
   "outputs": [
    {
     "data": {
      "text/plain": [
       "<matplotlib.image.AxesImage at 0x1ed14e4b070>"
      ]
     },
     "execution_count": 8,
     "metadata": {},
     "output_type": "execute_result"
    },
    {
     "data": {
      "image/png": "[encoded data removed]",
      "text/plain": [
       "<Figure size 432x288 with 1 Axes>"
      ]
     },
     "metadata": {
      "needs_background": "light"
     },
     "output_type": "display_data"
    }
   ],
   "source": [
    "def show_extracted(img_path,piece_type):\n",
    "    img = cv.imread(path)\n",
    "    img = img[31:-1,1:-1]\n",
    "    img[500:,:] = 0\n",
    "    img = img [:,:450]\n",
    "\n",
    "    template = cv.imread(f\"./tans/{piece_type}.png\",0)\n",
    "    template = template[3:,3:]\n",
    "    t2,template = cv.threshold(template, 100,1, cv.THRESH_BINARY)\n",
    "    nonzero = template.nonzero()\n",
    "    \n",
    "    #creating the proper templates at rotations\n",
    "    templates = [template[min(nonzero[0]) - 2:max(nonzero[0]) + 2, min(nonzero[1]) - 2:max(nonzero[1]) + 2]]\n",
    "    for r in range(-45,-325,-45):\n",
    "        rotated= ndimage.rotate(template,r)\n",
    "        nonzero = rotated.nonzero()\n",
    "        rotated= rotated[min(nonzero[0])-2:max(nonzero[0])+2,min(nonzero[1])-2:max(nonzero[1])+2]\n",
    "        templates.append(rotated)\n",
    "\n",
    "    available_placements =[]\n",
    "    start = time.time()\n",
    "    current = templates[0]\n",
    "    edges = cv.Canny(current*255,100,200)\n",
    "\n",
    "    #edged_img = cv.Canny(img*255,100,200)\n",
    "    edged_img = cv.Canny(img,100,200)\n",
    "    image = cv.Canny(img*255,100,200)\n",
    "\n",
    "    h, w = current.shape[:2]\n",
    "\n",
    "    method = cv.TM_SQDIFF\n",
    "\n",
    "    #res = cv.matchTemplate(image, edges, method, mask=  current)\n",
    "    res = cv.matchTemplate(image, edges, method)\n",
    "\n",
    "    i=0\n",
    "    attempt =0    "
   ]
  },
  {
   "cell_type": "code",
   "execution_count": 6,
   "id": "a1acd2d3",
   "metadata": {},
   "outputs": [
    {
     "name": "stdout",
     "output_type": "stream",
     "text": [
      "(0, 0)\n",
      "(48, 0)\n",
      "(96, 0)\n",
      "(144, 0)\n",
      "(192, 0)\n",
      "(240, 0)\n",
      "(288, 0)\n",
      "(336, 0)\n",
      "(0, 25)\n",
      "(48, 25)\n",
      "0.00894927978515625\n",
      "[]\n"
     ]
    },
    {
     "data": {
      "text/plain": [
       "<matplotlib.image.AxesImage at 0x1ed13ab0ac0>"
      ]
     },
     "execution_count": 6,
     "metadata": {},
     "output_type": "execute_result"
    },
    {
     "data": {
      "image/png": "[encoded data removed]",
      "text/plain": [
       "<Figure size 432x288 with 1 Axes>"
      ]
     },
     "metadata": {
      "needs_background": "light"
     },
     "output_type": "display_data"
    }
   ],
   "source": [
    "#img = cv.imread('./../puzzle_state.png',0)\n",
    "#img = cv.imread('./example_pictures/from_app.png',0)\n",
    "img = cv.imread('./../utility_pictures/thresholded.png',0)\n",
    "#trhesh,img = cv.threshold(img, 240,1, cv.THRESH_BINARY)\n",
    "#img = img[31:-1,1:-1]\n",
    "#img[500:,:] = 0\n",
    "img = img [:,:450]\n",
    "plt.imshow(img*255,cmap = 'gray')\n",
    "img.shape\n",
    "\n",
    "##templates\n",
    "name = 'smallt'\n",
    "template = cv.imread(f\"./tans/{name}.png\",0)\n",
    "template = template[3:,3:]\n",
    "t2,template = cv.threshold(template, 100,1, cv.THRESH_BINARY)\n",
    "plt.imshow(template*255,cmap='gray')\n",
    "\n",
    "nonzero = template.nonzero()\n",
    "templates = [template[min(nonzero[0]) - 2:max(nonzero[0]) + 2, min(nonzero[1]) - 2:max(nonzero[1]) + 2]]\n",
    "for r in range(-45,-325,-45):\n",
    "    rotated= ndimage.rotate(template,r)\n",
    "    nonzero = rotated.nonzero()\n",
    "    rotated= rotated[min(nonzero[0])-2:max(nonzero[0])+2,min(nonzero[1])-2:max(nonzero[1])+2]\n",
    "    templates.append(rotated)\n",
    "\n",
    "available_placements =[]\n",
    "start = time.time()\n",
    "current = templates[0]\n",
    "edges = cv.Canny(current*255,100,200)\n",
    "\n",
    "#edged_img = cv.Canny(img*255,100,200)\n",
    "edged_img = cv.Canny(img,100,200)\n",
    "image = cv.Canny(img*255,100,200)\n",
    "\n",
    "h, w = current.shape[:2]\n",
    "\n",
    "method = cv.TM_SQDIFF\n",
    "\n",
    "#res = cv.matchTemplate(image, edges, method, mask=  current)\n",
    "res = cv.matchTemplate(image, edges, method)\n",
    "\n",
    "i=0\n",
    "attempt =0\n",
    "while i < 4 and attempt < 10:\n",
    "    min_val, max_val, min_loc, max_loc = cv.minMaxLoc(res)\n",
    "\n",
    "    xt = min_loc[1]-h//2 if min_loc[1]>20 else 0\n",
    "    xb = min_loc[1]+h//2+1\n",
    "    yl = min_loc[0]-w//2 if min_loc[0]>20 else 0\n",
    "    yr = min_loc[0]+w//2+1\n",
    "\n",
    "    res[xt:xb,yl:yr] = float('inf')\n",
    "\n",
    "    central_coord = (min_loc[1]+h//2,min_loc[0]+w//2)\n",
    "#     if (img[central_coord] ==1):\n",
    "#         #print((min_loc[1]+h//2,min_loc[0]+w//2))\n",
    "#         cv.rectangle(image,(min_loc[0],min_loc[1]), (min_loc[0]+w+1, min_loc[1]+h+1), 255 )\n",
    "    print(min_loc)\n",
    "    part =  img[min_loc[1]:min_loc[1]+h,min_loc[0]:min_loc[0]+w]\n",
    "    #print(np.count_nonzero(np.bitwise_and(part,current)-current))\n",
    "    if np.count_nonzero(np.bitwise_and(part,current)-current) <100 :\n",
    "        \n",
    "        cv.rectangle(image,(min_loc[0],min_loc[1]), (min_loc[0]+w+1, min_loc[1]+h+1), 255 )\n",
    "\n",
    "        #available_placements.append((central_coord,ti*45))\n",
    "        available_placements.append(min_loc)\n",
    "        i+=1\n",
    "    #ax.imshow(image,cmap='gray')\n",
    "    attempt+=1\n",
    "print(time.time()-start)\n",
    "print(available_placements)\n",
    "plt.imshow(edged_img)"
   ]
  },
  {
   "cell_type": "code",
   "execution_count": 4,
   "id": "c3cdd7e1",
   "metadata": {},
   "outputs": [
    {
     "data": {
      "image/png": "[encoded data removed]",
      "text/plain": [
       "<Figure size 432x288 with 1 Axes>"
      ]
     },
     "metadata": {
      "needs_background": "light"
     },
     "output_type": "display_data"
    }
   ],
   "source": [
    "img = cv.imread('./../utility_pictures/thresholded.png',0)\n",
    "trhesh,img = cv.threshold(img, 240,1, cv.THRESH_BINARY)\n",
    "plt.imshow(img*255,cmap = 'gray')\n",
    "img.shape\n",
    "\n",
    "##templates\n",
    "name = 'middlet'\n",
    "template = cv.imread(f\"./tans/{name}.png\",0)\n",
    "template = template[3:,3:]\n",
    "t2,template = cv.threshold(template, 100,1, cv.THRESH_BINARY)\n",
    "\n",
    "\n",
    "nonzero = template.nonzero()\n",
    "small_t_templates = [template[min(nonzero[0]) - 2:max(nonzero[0]) + 2, min(nonzero[1]) - 2:max(nonzero[1]) + 2]]\n",
    "for r in range(-45,-325,-45):\n",
    "    rotated= ndimage.rotate(template,r)\n",
    "    nonzero = rotated.nonzero()\n",
    "    rotated= rotated[min(nonzero[0])-2:max(nonzero[0])+2,min(nonzero[1])-2:max(nonzero[1])+2]\n",
    "    small_t_templates.append(rotated)\n"
   ]
  },
  {
   "cell_type": "code",
   "execution_count": 5,
   "id": "03ac1a2f",
   "metadata": {},
   "outputs": [
    {
     "name": "stdout",
     "output_type": "stream",
     "text": [
      "0.1544816493988037\n",
      "[]\n"
     ]
    },
    {
     "data": {
      "image/png": "[encoded data removed]",
      "text/plain": [
       "<Figure size 1440x720 with 8 Axes>"
      ]
     },
     "metadata": {
      "needs_background": "light"
     },
     "output_type": "display_data"
    }
   ],
   "source": [
    "fig,axs = plt.subplots(2,4)\n",
    "fig.set_figheight(10)\n",
    "fig.set_figwidth(20)\n",
    "available_placements =[]\n",
    "start = time.time()\n",
    "for ti,ax in zip(range(len(small_t_templates)),axs.ravel()):\n",
    "#for ti in range(len(small_t_templates)):\n",
    "    current = small_t_templates[ti]\n",
    "    edges = cv.Canny(current*255,100,200)\n",
    "    image = cv.Canny(img*255,100,200)\n",
    "\n",
    "    h, w = current.shape[:2]\n",
    "\n",
    "    method = cv.TM_SQDIFF\n",
    "\n",
    "\n",
    "\n",
    "    #res = cv.matchTemplate(image, edges, method, mask=  current)    \n",
    "    res = cv.matchTemplate(image, edges, method)\n",
    "    \n",
    "    i=0\n",
    "    attempt =0\n",
    "    while i < 4 and attempt < 10:\n",
    "        min_val, max_val, min_loc, max_loc = cv.minMaxLoc(res)\n",
    "        \n",
    "        xt = min_loc[1]-h//2 if min_loc[1]>20 else 0\n",
    "        xb = min_loc[1]+h//2+1\n",
    "        yl = min_loc[0]-w//2 if min_loc[0]>20 else 0\n",
    "        yr = min_loc[0]+w//2+1\n",
    "        \n",
    "        res[xt:xb,yl:yr] = float('inf')\n",
    "        \n",
    "        central_coord = (min_loc[1]+h//2,min_loc[0]+w//2)\n",
    "#         if (img[central_coord] ==1):\n",
    "#             #print((min_loc[1]+h//2,min_loc[0]+w//2))\n",
    "#             cv.rectangle(image,(min_loc[0],min_loc[1]), (min_loc[0]+w+1, min_loc[1]+h+1), 255 )\n",
    "        part =  img[min_loc[1]:min_loc[1]+h,min_loc[0]:min_loc[0]+w]\n",
    "        if np.count_nonzero(np.bitwise_xor(np.bitwise_and(part,current),current)) <50 :\n",
    "\n",
    "            cv.rectangle(image,(min_loc[0],min_loc[1]), (min_loc[0]+w+1, min_loc[1]+h+1), 255 )\n",
    "\n",
    "                \n",
    "            available_placements.append((central_coord,ti*45))\n",
    "            i+=1\n",
    "        ax.imshow(image,cmap='gray')\n",
    "        attempt+=1\n",
    "print(time.time()-start)\n",
    "print(available_placements)"
   ]
  },
  {
   "cell_type": "code",
   "execution_count": 46,
   "id": "f58a9b50",
   "metadata": {},
   "outputs": [
    {
     "data": {
      "image/png": "[encoded data removed]",
      "text/plain": [
       "<Figure size 432x288 with 8 Axes>"
      ]
     },
     "metadata": {
      "needs_background": "light"
     },
     "output_type": "display_data"
    }
   ],
   "source": [
    "fig,axs = plt.subplots(2,4)\n",
    "for ti,ax in zip(range(len(small_t_templates)),axs.ravel()):\n",
    "    ax.imshow(small_t_templates[ti],cmap='gray')"
   ]
  },
  {
   "cell_type": "code",
   "execution_count": 64,
   "id": "db8a5dd1",
   "metadata": {},
   "outputs": [
    {
     "name": "stdout",
     "output_type": "stream",
     "text": [
      "65025.0\n",
      "(305, 63)\n",
      "65025.0\n",
      "(274, 348)\n",
      "4356675.0\n",
      "(233, 60)\n"
     ]
    },
    {
     "data": {
      "text/plain": [
       "<matplotlib.image.AxesImage at 0x1b483f2e4f0>"
      ]
     },
     "execution_count": 64,
     "metadata": {},
     "output_type": "execute_result"
    },
    {
     "data": {
      "image/png": "[encoded data removed]",
      "text/plain": [
       "<Figure size 432x288 with 1 Axes>"
      ]
     },
     "metadata": {
      "needs_background": "light"
     },
     "output_type": "display_data"
    },
    {
     "data": {
      "image/png": "[encoded data removed]",
      "text/plain": [
       "<Figure size 432x288 with 1 Axes>"
      ]
     },
     "metadata": {
      "needs_background": "light"
     },
     "output_type": "display_data"
    }
   ],
   "source": [
    "name = 'square'\n",
    "template = cv.imread(f\"./tans/{name}.png\",0)\n",
    "t2,template = cv.threshold(template, 100,1, cv.THRESH_BINARY)\n",
    "plt.imshow(template*255,cmap='gray')\n",
    "\n",
    "nonzero = template.nonzero()\n",
    "current = template[min(nonzero[0]) - 2:max(nonzero[0]) + 2, min(nonzero[1]) - 2:max(nonzero[1]) + 2]\n",
    "#current = template\n",
    "edges = cv.Canny(current*255,100,200)\n",
    "img = cv.imread('./example_pictures/1.png',0)\n",
    "trhesh,img = cv.threshold(img, 240,1, cv.THRESH_BINARY)\n",
    "img = img[31:-1,1:-1]\n",
    "img[500:,:] = 0\n",
    "image = cv.Canny(img*255,100,200)\n",
    "#\n",
    "#image =img.copy()\n",
    "\n",
    "h, w = current.shape[:2]\n",
    "\n",
    "method = cv.TM_SQDIFF\n",
    "\n",
    "\n",
    "\n",
    "res = cv.matchTemplate(image, edges, method, mask=  current)\n",
    "#res = cv.matchTemplate(image, current, method)\n",
    "# fake out max_val for first run through loop\n",
    "min_val = 1\n",
    "for i in range(3):\n",
    "    min_val, max_val, min_loc, max_loc = cv.minMaxLoc(res)\n",
    "    print(min_val)\n",
    "    print(min_loc)\n",
    "         \n",
    "    xt = min_loc[1]-h//2 if min_loc[1]>20 else 0\n",
    "    xb = min_loc[1]+h//2+1\n",
    "    yl = min_loc[0]-w//2 if min_loc[0]>20 else 0\n",
    "    yr = min_loc[0]+w//2+1\n",
    "    #res[max_loc[1]-h//2:max_loc[1]+h//2+1, max_loc[0]-w//2:max_loc[0]+w//2+1] = 0 \n",
    "    res[xt:xb,yl:yr] = float('inf') \n",
    "    cv.rectangle(image,(min_loc[0],min_loc[1]), (min_loc[0]+w+1, min_loc[1]+h+1), 255 )\n",
    "        \n",
    "\n",
    "plt.figure(0)\n",
    "plt.imshow(image,cmap='gray')\n",
    "plt.figure(1)\n",
    "plt.imshow(edges)"
   ]
  },
  {
   "cell_type": "code",
   "execution_count": 5,
   "id": "f1320d15",
   "metadata": {},
   "outputs": [
    {
     "data": {
      "text/plain": [
       "<matplotlib.image.AxesImage at 0x1e47360f9a0>"
      ]
     },
     "execution_count": 5,
     "metadata": {},
     "output_type": "execute_result"
    },
    {
     "data": {
      "image/png": "[encoded data removed]",
      "text/plain": [
       "<Figure size 432x288 with 1 Axes>"
      ]
     },
     "metadata": {
      "needs_background": "light"
     },
     "output_type": "display_data"
    }
   ],
   "source": [
    "grid_img = plt.imread('./example_pictures/puzzle_state_start.png',0)\n",
    "grid_img = grid_img[:,:450]\n",
    "plt.imshow(grid_img)"
   ]
  },
  {
   "cell_type": "code",
   "execution_count": 18,
   "id": "f3037dac",
   "metadata": {},
   "outputs": [
    {
     "data": {
      "image/png": "[encoded data removed]",
      "text/plain": [
       "<Figure size 432x288 with 1 Axes>"
      ]
     },
     "metadata": {
      "needs_background": "light"
     },
     "output_type": "display_data"
    }
   ],
   "source": [
    "sl = [(-280,0),(-200,300)]\n",
    "cmin = 120\n",
    "cmax= 400\n",
    "rmin = 0\n",
    "rmax = 500\n",
    "plt.imshow(grid_img)\n",
    "for i in range(6):\n",
    "    plt.plot([cmin+i*56,cmin+i*56],[0,500],'r')\n",
    "for j in range(6):\n",
    "    plt.plot([cmin,cmax],[0+j*100,0+j*100],'r')\n",
    "    "
   ]
  },
  {
   "cell_type": "code",
   "execution_count": 28,
   "id": "bde6ca05",
   "metadata": {},
   "outputs": [
    {
     "data": {
      "text/plain": [
       "<matplotlib.image.AxesImage at 0x1e4739bf8b0>"
      ]
     },
     "execution_count": 28,
     "metadata": {},
     "output_type": "execute_result"
    },
    {
     "data": {
      "image/png": "[encoded data removed]",
      "text/plain": [
       "<Figure size 432x288 with 1 Axes>"
      ]
     },
     "metadata": {
      "needs_background": "light"
     },
     "output_type": "display_data"
    }
   ],
   "source": [
    "grid_img = plt.imread('./example_pictures/puzzle_state_start.png',0)\n",
    "grid_img = grid_img[:,:450]\n",
    "for i in range(6):\n",
    "    #plt.plot([cmin+i*56,cmin+i*56],[0,500],'r')\n",
    "    cv.line(grid_img,[cmin+i*56,0],[cmin+i*56,0],color = (0.5))\n",
    "# for j in range(6):\n",
    "#     plt.plot([cmin,cmax],[0+j*100,0+j*100],'r')\n",
    "plt.imshow(grid_img)"
   ]
  },
  {
   "cell_type": "code",
   "execution_count": null,
   "id": "ece4f1cd",
   "metadata": {},
   "outputs": [],
   "source": [
    "p"
   ]
  }
 ],
 "metadata": {
  "kernelspec": {
   "display_name": "Python 3 (ipykernel)",
   "language": "python",
   "name": "python3"
  },
  "language_info": {
   "codemirror_mode": {
    "name": "ipython",
    "version": 3
   },
   "file_extension": ".py",
   "mimetype": "text/x-python",
   "name": "python",
   "nbconvert_exporter": "python",
   "pygments_lexer": "ipython3",
   "version": "3.9.7"
  }
 },
 "nbformat": 4,
 "nbformat_minor": 5
}
