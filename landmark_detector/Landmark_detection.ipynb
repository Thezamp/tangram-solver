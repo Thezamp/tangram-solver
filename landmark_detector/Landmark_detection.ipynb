{
 "cells": [
  {
   "cell_type": "code",
   "execution_count": 231,
   "id": "679657e7",
   "metadata": {},
   "outputs": [],
   "source": [
    "import numpy as np\n",
    "import cv2 as cv\n",
    "from matplotlib import pyplot as plt\n",
    "from scipy import ndimage\n",
    "import pylab as pl\n",
    "from matplotlib import collections  as mc\n",
    "import time\n"
   ]
  },
  {
   "cell_type": "code",
   "execution_count": 106,
   "id": "8895df68",
   "metadata": {},
   "outputs": [
    {
     "data": {
      "text/plain": [
       "(600, 800)"
      ]
     },
     "execution_count": 106,
     "metadata": {},
     "output_type": "execute_result"
    },
    {
     "data": {
      "image/png": "[encoded data removed]",
      "text/plain": [
       "<Figure size 432x288 with 1 Axes>"
      ]
     },
     "metadata": {
      "needs_background": "light"
     },
     "output_type": "display_data"
    }
   ],
   "source": [
    "img = cv.imread('2.png',0)\n",
    "trhesh,img = cv.threshold(img, 240,1, cv.THRESH_BINARY)\n",
    "img = img[31:-1,1:-1]\n",
    "img[500:,:] = 0\n",
    "plt.imshow(img*255,cmap = 'gray')\n",
    "img.shape"
   ]
  },
  {
   "cell_type": "code",
   "execution_count": 191,
   "id": "c3cdd7e1",
   "metadata": {},
   "outputs": [
    {
     "data": {
      "text/plain": [
       "<matplotlib.image.AxesImage at 0x1d0e0111f70>"
      ]
     },
     "execution_count": 191,
     "metadata": {},
     "output_type": "execute_result"
    },
    {
     "data": {
      "image/png": "[encoded data removed]",
      "text/plain": [
       "<Figure size 432x288 with 1 Axes>"
      ]
     },
     "metadata": {
      "needs_background": "light"
     },
     "output_type": "display_data"
    }
   ],
   "source": [
    "##templates\n",
    "template = cv.imread('smallt.png',0)\n",
    "t2,template = cv.threshold(template, 100,1, cv.THRESH_BINARY)\n",
    "plt.imshow(template*255,cmap='gray')\n",
    "\n",
    "small_t_templates =[template]\n",
    "for r in range(-45,-325,-45):\n",
    "    rotated= ndimage.rotate(template,r)\n",
    "    nonzero = rotated.nonzero()\n",
    "    rotated= rotated[min(nonzero[0])-2:max(nonzero[0])+2,min(nonzero[1])-2:max(nonzero[1])+2]\n",
    "    small_t_templates.append(rotated)\n",
    "plt.imshow(small_t_templates[4],cmap='gray')"
   ]
  },
  {
   "cell_type": "code",
   "execution_count": 205,
   "id": "db8a5dd1",
   "metadata": {},
   "outputs": [
    {
     "name": "stdout",
     "output_type": "stream",
     "text": [
      "4161600.0\n",
      "(235, 66)\n",
      "4161600.0\n",
      "(307, 66)\n",
      "4161600.0\n",
      "(239, 230)\n"
     ]
    },
    {
     "data": {
      "text/plain": [
       "<matplotlib.image.AxesImage at 0x1d0e16b7a30>"
      ]
     },
     "execution_count": 205,
     "metadata": {},
     "output_type": "execute_result"
    },
    {
     "data": {
      "image/png": "[encoded data removed]",
      "text/plain": [
       "<Figure size 432x288 with 1 Axes>"
      ]
     },
     "metadata": {
      "needs_background": "light"
     },
     "output_type": "display_data"
    }
   ],
   "source": [
    "current = small_t_templates[1]\n",
    "edges = cv.Canny(current*255,100,200)\n",
    "image = cv.Canny(img*255,100,200)\n",
    "#\n",
    "#image =img.copy()\n",
    "\n",
    "h, w = current.shape[:2]\n",
    "\n",
    "method = cv.TM_SQDIFF\n",
    "\n",
    "\n",
    "\n",
    "res = cv.matchTemplate(image, edges, method, mask=  current)\n",
    "#res = cv.matchTemplate(image, current, method)\n",
    "# fake out max_val for first run through loop\n",
    "min_val = 1\n",
    "for i in range(3):\n",
    "    min_val, max_val, min_loc, max_loc = cv.minMaxLoc(res)\n",
    "    print(min_val)\n",
    "    print(min_loc)\n",
    "         \n",
    "    xt = min_loc[1]-h//2 if min_loc[1]>20 else 0\n",
    "    xb = min_loc[1]+h//2+1\n",
    "    yl = min_loc[0]-w//2 if min_loc[0]>20 else 0\n",
    "    yr = min_loc[0]+w//2+1\n",
    "    #res[max_loc[1]-h//2:max_loc[1]+h//2+1, max_loc[0]-w//2:max_loc[0]+w//2+1] = 0 \n",
    "    res[xt:xb,yl:yr] = float('inf') \n",
    "    cv.rectangle(image,(min_loc[0],min_loc[1]), (min_loc[0]+w+1, min_loc[1]+h+1), 255 )\n",
    "        \n",
    "\n",
    "\n",
    "plt.imshow(image,cmap='gray')"
   ]
  },
  {
   "cell_type": "code",
   "execution_count": 214,
   "id": "1dc9c487",
   "metadata": {},
   "outputs": [
    {
     "data": {
      "text/plain": [
       "(<AxesSubplot:>, <matplotlib.image.AxesImage at 0x1d0e18a40a0>)"
      ]
     },
     "execution_count": 214,
     "metadata": {},
     "output_type": "execute_result"
    },
    {
     "data": {
      "image/png": "[encoded data removed]",
      "text/plain": [
       "<Figure size 432x288 with 1 Axes>"
      ]
     },
     "metadata": {
      "needs_background": "light"
     },
     "output_type": "display_data"
    }
   ],
   "source": [
    "plt.subplot(121),plt.imshow(edges,cmap='gray')"
   ]
  },
  {
   "cell_type": "code",
   "execution_count": 235,
   "id": "03ac1a2f",
   "metadata": {},
   "outputs": [
    {
     "name": "stdout",
     "output_type": "stream",
     "text": [
      "0.33347511291503906\n",
      "[((215, 179), 0), ((467, 271), 0), ((393, 297), 0), ((31, 337), 0), ((100, 341), 45), ((385, 310), 45), ((308, 233), 45), ((34, 364), 45), ((279, 264), 90), ((304, 289), 90), ((329, 314), 90), ((52, 358), 90), ((451, 266), 135), ((99, 341), 135), ((384, 310), 135), ((206, 167), 135), ((209, 240), 180), ((298, 246), 180), ((323, 271), 180), ((393, 285), 180), ((300, 308), 225), ((99, 342), 225), ((384, 311), 225), ((265, 273), 225), ((464, 275), 270), ((373, 319), 270), ((88, 350), 270), ((88, 350), 270), ((219, 253), 315), ((73, 338), 315), ((385, 273), 315), ((330, 273), 315)]\n"
     ]
    }
   ],
   "source": [
    "#fig,axs = plt.subplots(2,4)\n",
    "#fig.set_figheight(10)\n",
    "#fig.set_figwidth(20)\n",
    "available_placements =[]\n",
    "start = time.time()\n",
    "for ti,ax in zip(range(len(small_t_templates)),axs.ravel()):\n",
    "    current = small_t_templates[ti]\n",
    "    edges = cv.Canny(current*255,100,200)\n",
    "    image = cv.Canny(img*255,100,200)\n",
    "\n",
    "    h, w = current.shape[:2]\n",
    "\n",
    "    method = cv.TM_SQDIFF\n",
    "\n",
    "\n",
    "\n",
    "    res = cv.matchTemplate(image, edges, method, mask=  current)\n",
    "    \n",
    "    i=0\n",
    "    \n",
    "    while i < 4:\n",
    "        min_val, max_val, min_loc, max_loc = cv.minMaxLoc(res)\n",
    "        \n",
    "        xt = min_loc[1]-h//2 if min_loc[1]>20 else 0\n",
    "        xb = min_loc[1]+h//2+1\n",
    "        yl = min_loc[0]-w//2 if min_loc[0]>20 else 0\n",
    "        yr = min_loc[0]+w//2+1\n",
    "        \n",
    "        res[xt:xb,yl:yr] = float('inf')\n",
    "        central_coord = (min_loc[1]+h//2,min_loc[0]+w//2)\n",
    "        if (img[central_coord] ==1):\n",
    "            #print((min_loc[1]+h//2,min_loc[0]+w//2))\n",
    "            #cv.rectangle(image,(min_loc[0],min_loc[1]), (min_loc[0]+w+1, min_loc[1]+h+1), 255 )\n",
    "            available_placements.append((central_coord,ti*45))\n",
    "            i+=1\n",
    "        #ax.imshow(image,cmap='gray')\n",
    "print(time.time()-start)\n",
    "print(available_placements)"
   ]
  },
  {
   "cell_type": "code",
   "execution_count": 226,
   "id": "f58a9b50",
   "metadata": {},
   "outputs": [
    {
     "data": {
      "text/plain": [
       "<matplotlib.image.AxesImage at 0x1d0e1975f40>"
      ]
     },
     "execution_count": 226,
     "metadata": {},
     "output_type": "execute_result"
    },
    {
     "data": {
      "image/png": "[encoded data removed]",
      "text/plain": [
       "<Figure size 432x288 with 1 Axes>"
      ]
     },
     "metadata": {
      "needs_background": "light"
     },
     "output_type": "display_data"
    }
   ],
   "source": [
    "plt.imshow(small_t_templates[5],cmap='gray')"
   ]
  },
  {
   "cell_type": "code",
   "execution_count": null,
   "id": "f1320d15",
   "metadata": {},
   "outputs": [],
   "source": []
  }
 ],
 "metadata": {
  "kernelspec": {
   "display_name": "Python 3 (ipykernel)",
   "language": "python",
   "name": "python3"
  },
  "language_info": {
   "codemirror_mode": {
    "name": "ipython",
    "version": 3
   },
   "file_extension": ".py",
   "mimetype": "text/x-python",
   "name": "python",
   "nbconvert_exporter": "python",
   "pygments_lexer": "ipython3",
   "version": "3.9.7"
  }
 },
 "nbformat": 4,
 "nbformat_minor": 5
}
